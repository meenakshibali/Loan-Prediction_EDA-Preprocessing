{
 "cells": [
  {
   "cell_type": "raw",
   "id": "2d01b237",
   "metadata": {},
   "source": [
    "Complete the loan prediction ML project using Decision Tree.Compare the result with KNN Classifier and Logistic Regression."
   ]
  },
  {
   "cell_type": "code",
   "execution_count": 1,
   "id": "3810609b",
   "metadata": {},
   "outputs": [],
   "source": [
    "import pandas as pd  \n",
    "import numpy as np  \n",
    "import matplotlib.pyplot as plt  \n",
    "import seaborn as sns   \n",
    "\n",
    "import warnings\n",
    "warnings.filterwarnings(\"ignore\")"
   ]
  },
  {
   "cell_type": "code",
   "execution_count": 2,
   "id": "00667e08",
   "metadata": {},
   "outputs": [
    {
     "data": {
      "text/html": [
       "<div>\n",
       "<style scoped>\n",
       "    .dataframe tbody tr th:only-of-type {\n",
       "        vertical-align: middle;\n",
       "    }\n",
       "\n",
       "    .dataframe tbody tr th {\n",
       "        vertical-align: top;\n",
       "    }\n",
       "\n",
       "    .dataframe thead th {\n",
       "        text-align: right;\n",
       "    }\n",
       "</style>\n",
       "<table border=\"1\" class=\"dataframe\">\n",
       "  <thead>\n",
       "    <tr style=\"text-align: right;\">\n",
       "      <th></th>\n",
       "      <th>Loan_ID</th>\n",
       "      <th>Gender</th>\n",
       "      <th>Married</th>\n",
       "      <th>Dependents</th>\n",
       "      <th>Education</th>\n",
       "      <th>Self_Employed</th>\n",
       "      <th>ApplicantIncome</th>\n",
       "      <th>CoapplicantIncome</th>\n",
       "      <th>LoanAmount</th>\n",
       "      <th>Loan_Amount_Term</th>\n",
       "      <th>Credit_History</th>\n",
       "      <th>Property_Area</th>\n",
       "      <th>Loan_Status</th>\n",
       "    </tr>\n",
       "  </thead>\n",
       "  <tbody>\n",
       "    <tr>\n",
       "      <th>0</th>\n",
       "      <td>LP001002</td>\n",
       "      <td>Male</td>\n",
       "      <td>No</td>\n",
       "      <td>0</td>\n",
       "      <td>Graduate</td>\n",
       "      <td>No</td>\n",
       "      <td>5849</td>\n",
       "      <td>0.0</td>\n",
       "      <td>NaN</td>\n",
       "      <td>360.0</td>\n",
       "      <td>1.0</td>\n",
       "      <td>Urban</td>\n",
       "      <td>Y</td>\n",
       "    </tr>\n",
       "    <tr>\n",
       "      <th>1</th>\n",
       "      <td>LP001003</td>\n",
       "      <td>Male</td>\n",
       "      <td>Yes</td>\n",
       "      <td>1</td>\n",
       "      <td>Graduate</td>\n",
       "      <td>No</td>\n",
       "      <td>4583</td>\n",
       "      <td>1508.0</td>\n",
       "      <td>128.0</td>\n",
       "      <td>360.0</td>\n",
       "      <td>1.0</td>\n",
       "      <td>Rural</td>\n",
       "      <td>N</td>\n",
       "    </tr>\n",
       "  </tbody>\n",
       "</table>\n",
       "</div>"
      ],
      "text/plain": [
       "    Loan_ID Gender Married Dependents Education Self_Employed  \\\n",
       "0  LP001002   Male      No          0  Graduate            No   \n",
       "1  LP001003   Male     Yes          1  Graduate            No   \n",
       "\n",
       "   ApplicantIncome  CoapplicantIncome  LoanAmount  Loan_Amount_Term  \\\n",
       "0             5849                0.0         NaN             360.0   \n",
       "1             4583             1508.0       128.0             360.0   \n",
       "\n",
       "   Credit_History Property_Area Loan_Status  \n",
       "0             1.0         Urban           Y  \n",
       "1             1.0         Rural           N  "
      ]
     },
     "execution_count": 2,
     "metadata": {},
     "output_type": "execute_result"
    }
   ],
   "source": [
    "df=pd.read_csv(\"train_u6lujuX_CVtuZ9i.csv\")\n",
    "df.head(2)"
   ]
  },
  {
   "cell_type": "code",
   "execution_count": 3,
   "id": "0766614b",
   "metadata": {},
   "outputs": [
    {
     "name": "stdout",
     "output_type": "stream",
     "text": [
      "<class 'pandas.core.frame.DataFrame'>\n",
      "RangeIndex: 614 entries, 0 to 613\n",
      "Data columns (total 13 columns):\n",
      " #   Column             Non-Null Count  Dtype  \n",
      "---  ------             --------------  -----  \n",
      " 0   Loan_ID            614 non-null    object \n",
      " 1   Gender             601 non-null    object \n",
      " 2   Married            611 non-null    object \n",
      " 3   Dependents         599 non-null    object \n",
      " 4   Education          614 non-null    object \n",
      " 5   Self_Employed      582 non-null    object \n",
      " 6   ApplicantIncome    614 non-null    int64  \n",
      " 7   CoapplicantIncome  614 non-null    float64\n",
      " 8   LoanAmount         592 non-null    float64\n",
      " 9   Loan_Amount_Term   600 non-null    float64\n",
      " 10  Credit_History     564 non-null    float64\n",
      " 11  Property_Area      614 non-null    object \n",
      " 12  Loan_Status        614 non-null    object \n",
      "dtypes: float64(4), int64(1), object(8)\n",
      "memory usage: 62.5+ KB\n"
     ]
    }
   ],
   "source": [
    "df.info()"
   ]
  },
  {
   "cell_type": "markdown",
   "id": "9daab07b",
   "metadata": {},
   "source": [
    "\n",
    "\n",
    "-->  in the above data has 13 columns and 614 rows\n",
    "\n",
    "-->  8 columns has object type value, out of dependents column has mixed value numeric and string\n",
    "\n",
    "-->  5 columns has numerical value\n",
    "\n",
    "-->  there are some missing values in dataset\n",
    "\n",
    "-->  Loan_status is the Target column"
   ]
  },
  {
   "cell_type": "markdown",
   "id": "038ab0ac",
   "metadata": {},
   "source": [
    "# Analysis of Categorical Variable"
   ]
  },
  {
   "cell_type": "code",
   "execution_count": 4,
   "id": "0c70678d",
   "metadata": {},
   "outputs": [
    {
     "data": {
      "text/plain": [
       "LP001002    1\n",
       "LP002328    1\n",
       "LP002305    1\n",
       "LP002308    1\n",
       "LP002314    1\n",
       "           ..\n",
       "LP001692    1\n",
       "LP001693    1\n",
       "LP001698    1\n",
       "LP001699    1\n",
       "LP002990    1\n",
       "Name: Loan_ID, Length: 614, dtype: int64"
      ]
     },
     "execution_count": 4,
     "metadata": {},
     "output_type": "execute_result"
    }
   ],
   "source": [
    "df['Loan_ID'].value_counts(dropna= False)"
   ]
  },
  {
   "cell_type": "markdown",
   "id": "343ff63b",
   "metadata": {},
   "source": [
    "it can be seen that there are 614 unique ID in the dataset"
   ]
  },
  {
   "cell_type": "markdown",
   "id": "dd3d682e",
   "metadata": {},
   "source": [
    "<h2> Gender </h2>"
   ]
  },
  {
   "cell_type": "code",
   "execution_count": 5,
   "id": "9e6ceaae",
   "metadata": {},
   "outputs": [
    {
     "data": {
      "text/plain": [
       "pandas.core.series.Series"
      ]
     },
     "execution_count": 5,
     "metadata": {},
     "output_type": "execute_result"
    }
   ],
   "source": [
    "a= df['Gender'].value_counts(dropna=False)\n",
    "type(a)\n",
    "\n",
    "b= df.Gender.value_counts(dropna=False)/len(df)*100\n",
    "type(b)\n"
   ]
  },
  {
   "cell_type": "code",
   "execution_count": 6,
   "id": "f350f957",
   "metadata": {},
   "outputs": [
    {
     "name": "stdout",
     "output_type": "stream",
     "text": [
      " Total and  Percentage:\n",
      "        Gender     Gender\n",
      "Male       489  79.641694\n",
      "Female     112  18.241042\n",
      "NaN         13   2.117264\n"
     ]
    }
   ],
   "source": [
    "c= pd.concat([a,b],axis=1)\n",
    "print(\" Total and  Percentage:\")\n",
    "print(c)"
   ]
  },
  {
   "cell_type": "code",
   "execution_count": 7,
   "id": "ff3ade6d",
   "metadata": {},
   "outputs": [
    {
     "data": {
      "image/png": "[encoded data removed]",
      "text/plain": [
       "<Figure size 432x288 with 1 Axes>"
      ]
     },
     "metadata": {
      "needs_background": "light"
     },
     "output_type": "display_data"
    }
   ],
   "source": [
    "sns.countplot(x='Gender', data=df)\n",
    "plt.show()"
   ]
  },
  {
   "cell_type": "markdown",
   "id": "773eb46a",
   "metadata": {},
   "source": [
    "from the above graphs, the male applicant is higher compared to female applicants. it can also be seen that missing value in this column"
   ]
  },
  {
   "cell_type": "markdown",
   "id": "6c1bc162",
   "metadata": {},
   "source": [
    "<h2> Married </h2>"
   ]
  },
  {
   "cell_type": "code",
   "execution_count": 8,
   "id": "19e0f00a",
   "metadata": {},
   "outputs": [],
   "source": [
    "a= df.Married.value_counts(dropna=False)\n",
    "b= df.Married.value_counts(dropna=False)/len(df['Married'])*100"
   ]
  },
  {
   "cell_type": "code",
   "execution_count": 9,
   "id": "c8c7ff70",
   "metadata": {},
   "outputs": [
    {
     "name": "stdout",
     "output_type": "stream",
     "text": [
      " Total and Percentage:\n",
      "     Married    Married\n",
      "Yes      398  64.820847\n",
      "No       213  34.690554\n",
      "NaN        3   0.488599\n"
     ]
    }
   ],
   "source": [
    "c= pd.concat([a,b],axis=1)\n",
    "print(\" Total and Percentage:\")\n",
    "print(c)"
   ]
  },
  {
   "cell_type": "code",
   "execution_count": 10,
   "id": "0382db22",
   "metadata": {},
   "outputs": [
    {
     "data": {
      "image/png": "[encoded data removed]",
      "text/plain": [
       "<Figure size 432x288 with 1 Axes>"
      ]
     },
     "metadata": {
      "needs_background": "light"
     },
     "output_type": "display_data"
    }
   ],
   "source": [
    "sns.countplot(x=\"Married\", data=df, palette=\"hls\")\n",
    "plt.show()"
   ]
  },
  {
   "cell_type": "markdown",
   "id": "bd037f7c",
   "metadata": {},
   "source": [
    "The number of applicants that has been married is higher compared to not married. it can also be seen that there are small number of missing values in the column"
   ]
  },
  {
   "cell_type": "markdown",
   "id": "c810e74a",
   "metadata": {},
   "source": [
    "<h2> Education </h2>"
   ]
  },
  {
   "cell_type": "code",
   "execution_count": 11,
   "id": "a4425174",
   "metadata": {},
   "outputs": [
    {
     "name": "stdout",
     "output_type": "stream",
     "text": [
      " Total and Percentage:\n",
      "              Education  Education\n",
      "Graduate            480  78.175896\n",
      "Not Graduate        134  21.824104\n"
     ]
    }
   ],
   "source": [
    "a= df.Education.value_counts(dropna=False)\n",
    "b= df.Education.value_counts(dropna=False)/len(df['Married'])*100\n",
    "c= pd.concat([a,b],axis=1)\n",
    "print(\" Total and Percentage:\")\n",
    "print(c)"
   ]
  },
  {
   "cell_type": "code",
   "execution_count": 12,
   "id": "50a3fc28",
   "metadata": {},
   "outputs": [
    {
     "data": {
      "image/png": "[encoded data removed]",
      "text/plain": [
       "<Figure size 432x288 with 1 Axes>"
      ]
     },
     "metadata": {
      "needs_background": "light"
     },
     "output_type": "display_data"
    }
   ],
   "source": [
    "sns.countplot(x=\"Education\", data=df, palette=\"Paired\")\n",
    "plt.show()"
   ]
  },
  {
   "cell_type": "markdown",
   "id": "14867f15",
   "metadata": {},
   "source": [
    "The number of applicants that has been graduated is higher compared to applicants that hasn't graduated. There is no missing value in this column."
   ]
  },
  {
   "cell_type": "markdown",
   "id": "3131861f",
   "metadata": {},
   "source": [
    "<h2> Self Employed </h2>"
   ]
  },
  {
   "cell_type": "code",
   "execution_count": 13,
   "id": "820a5345",
   "metadata": {},
   "outputs": [
    {
     "name": "stdout",
     "output_type": "stream",
     "text": [
      " Total and Percentage:\n",
      "     Self_Employed  Self_Employed\n",
      "No             500      81.433225\n",
      "Yes             82      13.355049\n",
      "NaN             32       5.211726\n"
     ]
    }
   ],
   "source": [
    "a= df.Self_Employed.value_counts(dropna=False)\n",
    "b= df.Self_Employed.value_counts(dropna=False)/len(df['Married'])*100\n",
    "c= pd.concat([a,b],axis=1)\n",
    "print(\" Total and Percentage:\")\n",
    "print(c)"
   ]
  },
  {
   "cell_type": "code",
   "execution_count": 14,
   "id": "5dfe5e76",
   "metadata": {},
   "outputs": [
    {
     "data": {
      "image/png": "[encoded data removed]",
      "text/plain": [
       "<Figure size 432x288 with 1 Axes>"
      ]
     },
     "metadata": {
      "needs_background": "light"
     },
     "output_type": "display_data"
    }
   ],
   "source": [
    "sns.countplot(x=\"Self_Employed\", data=df, palette=\"crest\")\n",
    "plt.show()"
   ]
  },
  {
   "cell_type": "markdown",
   "id": "aeb406d5",
   "metadata": {},
   "source": [
    "The number of applicants that are not self employed is higher compared to applicants that are self employed. It also can be seen, there are some missing values in this column."
   ]
  },
  {
   "cell_type": "markdown",
   "id": "3a36fc51",
   "metadata": {},
   "source": [
    "<h2> Credit History </h2>"
   ]
  },
  {
   "cell_type": "code",
   "execution_count": 15,
   "id": "bea091c3",
   "metadata": {},
   "outputs": [
    {
     "name": "stdout",
     "output_type": "stream",
     "text": [
      " Total and Percentage:\n",
      "     Credit_History  Credit_History\n",
      "1.0             475       77.361564\n",
      "0.0              89       14.495114\n",
      "NaN              50        8.143322\n"
     ]
    }
   ],
   "source": [
    "a= df.Credit_History.value_counts(dropna=False)\n",
    "b= df.Credit_History.value_counts(dropna=False)/len(df['Married'])*100\n",
    "c= pd.concat([a,b],axis=1)\n",
    "print(\" Total and Percentage:\")\n",
    "print(c)"
   ]
  },
  {
   "cell_type": "code",
   "execution_count": 16,
   "id": "3a2c8fe8",
   "metadata": {},
   "outputs": [
    {
     "data": {
      "image/png": "[encoded data removed]",
      "text/plain": [
       "<Figure size 432x288 with 1 Axes>"
      ]
     },
     "metadata": {
      "needs_background": "light"
     },
     "output_type": "display_data"
    }
   ],
   "source": [
    "sns.countplot(x=\"Credit_History\", data=df, palette=\"rocket\")\n",
    "plt.show()"
   ]
  },
  {
   "cell_type": "markdown",
   "id": "2791e381",
   "metadata": {},
   "source": [
    "The number of applicants that have good credit history is higher compared to applicants that have bad credit history. It also can be seen, there are missing values in this column."
   ]
  },
  {
   "cell_type": "markdown",
   "id": "c4f026cc",
   "metadata": {},
   "source": [
    "<h2> Property Area </h2>"
   ]
  },
  {
   "cell_type": "code",
   "execution_count": 17,
   "id": "623b127e",
   "metadata": {},
   "outputs": [
    {
     "name": "stdout",
     "output_type": "stream",
     "text": [
      " Total and Percentage:\n",
      "           Property_Area  Property_Area\n",
      "Semiurban            233      37.947883\n",
      "Urban                202      32.899023\n",
      "Rural                179      29.153094\n"
     ]
    }
   ],
   "source": [
    "a= df.Property_Area.value_counts(dropna=False)\n",
    "b= df.Property_Area.value_counts(dropna=False)/len(df['Married'])*100\n",
    "c= pd.concat([a,b],axis=1)\n",
    "print(\" Total and Percentage:\")\n",
    "print(c)"
   ]
  },
  {
   "cell_type": "code",
   "execution_count": 18,
   "id": "214ad794",
   "metadata": {},
   "outputs": [
    {
     "data": {
      "image/png": "[encoded data removed]",
      "text/plain": [
       "<Figure size 432x288 with 1 Axes>"
      ]
     },
     "metadata": {
      "needs_background": "light"
     },
     "output_type": "display_data"
    }
   ],
   "source": [
    "sns.countplot(x=\"Property_Area\", data=df, palette=\"cubehelix\")\n",
    "plt.show()"
   ]
  },
  {
   "cell_type": "markdown",
   "id": "6ca08b90",
   "metadata": {},
   "source": [
    "This column has a balanced distribution between Urban, Rural, but Semiurban property area is little high. It also can be seen there is no missing value."
   ]
  },
  {
   "cell_type": "markdown",
   "id": "ca7dda92",
   "metadata": {},
   "source": [
    "<h2> Loan Amount Term </h2>"
   ]
  },
  {
   "cell_type": "code",
   "execution_count": 19,
   "id": "a6c46e06",
   "metadata": {},
   "outputs": [
    {
     "name": "stdout",
     "output_type": "stream",
     "text": [
      " Total and Percentage:\n",
      "       Loan_Amount_Term  Loan_Amount_Term\n",
      "360.0               512         83.387622\n",
      "180.0                44          7.166124\n",
      "480.0                15          2.442997\n",
      "NaN                  14          2.280130\n",
      "300.0                13          2.117264\n",
      "240.0                 4          0.651466\n",
      "84.0                  4          0.651466\n",
      "120.0                 3          0.488599\n",
      "60.0                  2          0.325733\n",
      "36.0                  2          0.325733\n",
      "12.0                  1          0.162866\n"
     ]
    }
   ],
   "source": [
    "a= df.Loan_Amount_Term.value_counts(dropna=False)\n",
    "b= df.Loan_Amount_Term.value_counts(dropna=False)/len(df['Married'])*100\n",
    "c= pd.concat([a,b],axis=1)\n",
    "print(\" Total and Percentage:\")\n",
    "print(c)"
   ]
  },
  {
   "cell_type": "code",
   "execution_count": 20,
   "id": "5a516bdf",
   "metadata": {},
   "outputs": [
    {
     "data": {
      "image/png": "[encoded data removed]",
      "text/plain": [
       "<Figure size 432x288 with 1 Axes>"
      ]
     },
     "metadata": {
      "needs_background": "light"
     },
     "output_type": "display_data"
    }
   ],
   "source": [
    "sns.countplot(x=\"Loan_Amount_Term\", data=df, palette=\"YlOrBr\")\n",
    "plt.show()"
   ]
  },
  {
   "cell_type": "markdown",
   "id": "bc7bf9ff",
   "metadata": {},
   "source": [
    "As can be seen from the results, the 360 days loan duration is the most popular compared to others."
   ]
  },
  {
   "cell_type": "markdown",
   "id": "d0d25d57",
   "metadata": {},
   "source": [
    "<h2> Loan Status (Target column) </h2>"
   ]
  },
  {
   "cell_type": "code",
   "execution_count": 21,
   "id": "7691a800",
   "metadata": {},
   "outputs": [
    {
     "name": "stdout",
     "output_type": "stream",
     "text": [
      " Total and Percentage:\n",
      "   Loan_Status  Loan_Status\n",
      "Y          422    68.729642\n",
      "N          192    31.270358\n"
     ]
    }
   ],
   "source": [
    "a= df.Loan_Status.value_counts(dropna=False)\n",
    "b= df.Loan_Status.value_counts(dropna=False)/len(df['Married'])*100\n",
    "c= pd.concat([a,b],axis=1)\n",
    "print(\" Total and Percentage:\")\n",
    "print(c)"
   ]
  },
  {
   "cell_type": "code",
   "execution_count": 22,
   "id": "42f5d708",
   "metadata": {},
   "outputs": [
    {
     "data": {
      "image/png": "[encoded data removed]",
      "text/plain": [
       "<Figure size 432x288 with 1 Axes>"
      ]
     },
     "metadata": {
      "needs_background": "light"
     },
     "output_type": "display_data"
    }
   ],
   "source": [
    "sns.countplot(x=\"Loan_Status\", data=df, palette=\"viridis\")\n",
    "plt.show()"
   ]
  },
  {
   "cell_type": "markdown",
   "id": "df8b35d7",
   "metadata": {},
   "source": [
    "The number of approved loans is higher compared to rejected loans . It also can be seen, there is no missing values in this column.\n",
    "So the data is imbalance for model."
   ]
  },
  {
   "cell_type": "markdown",
   "id": "0c27639d",
   "metadata": {},
   "source": [
    "<h2> Drop Null value of Categorical variable </h2>"
   ]
  },
  {
   "cell_type": "code",
   "execution_count": 23,
   "id": "6057d49a",
   "metadata": {},
   "outputs": [
    {
     "data": {
      "text/plain": [
       "Loan_ID              0.000000\n",
       "Gender               2.117264\n",
       "Married              0.488599\n",
       "Dependents           2.442997\n",
       "Education            0.000000\n",
       "Self_Employed        5.211726\n",
       "ApplicantIncome      0.000000\n",
       "CoapplicantIncome    0.000000\n",
       "LoanAmount           3.583062\n",
       "Loan_Amount_Term     2.280130\n",
       "Credit_History       8.143322\n",
       "Property_Area        0.000000\n",
       "Loan_Status          0.000000\n",
       "dtype: float64"
      ]
     },
     "execution_count": 23,
     "metadata": {},
     "output_type": "execute_result"
    }
   ],
   "source": [
    "df.isnull().sum()/len(df)*100"
   ]
  },
  {
   "cell_type": "raw",
   "id": "19b73069",
   "metadata": {},
   "source": [
    "Name of Categorical data having null value:\n",
    "    \n",
    "Gender: fill with mode\n",
    "Self_Employed :fill with mode\n",
    "Loan_Amount_Term :fill with mode\n",
    "Credit_History :fill with mode\n",
    "Dependents: fill with mode\n",
    "Married : drop null rows\n"
   ]
  },
  {
   "cell_type": "markdown",
   "id": "4540f39f",
   "metadata": {},
   "source": [
    "<h4> Drop Missing Values in Married column </h4>"
   ]
  },
  {
   "cell_type": "markdown",
   "id": "18748710",
   "metadata": {},
   "source": [
    "In Married column has only 0.48% observations are having null values. So we can drop these rows from  our dataset."
   ]
  },
  {
   "cell_type": "code",
   "execution_count": 24,
   "id": "1ed38cc0",
   "metadata": {},
   "outputs": [],
   "source": [
    "df.dropna(how='all',inplace= True)  # Not single row has null value"
   ]
  },
  {
   "cell_type": "code",
   "execution_count": 25,
   "id": "d171f10e",
   "metadata": {},
   "outputs": [
    {
     "data": {
      "text/plain": [
       "(614, 13)"
      ]
     },
     "execution_count": 25,
     "metadata": {},
     "output_type": "execute_result"
    }
   ],
   "source": [
    "df.shape"
   ]
  },
  {
   "cell_type": "code",
   "execution_count": 26,
   "id": "65cb258b",
   "metadata": {},
   "outputs": [
    {
     "data": {
      "text/plain": [
       "(611, 13)"
      ]
     },
     "execution_count": 26,
     "metadata": {},
     "output_type": "execute_result"
    }
   ],
   "source": [
    "# drop missing values in Married column\n",
    "\n",
    "df.dropna(subset=['Married'], inplace= True)\n",
    "df.shape"
   ]
  },
  {
   "cell_type": "markdown",
   "id": "72880bb5",
   "metadata": {},
   "source": [
    " <h3> Filling Null values in Categorical </h3>"
   ]
  },
  {
   "cell_type": "code",
   "execution_count": 27,
   "id": "2fe5b094",
   "metadata": {},
   "outputs": [],
   "source": [
    "df['Gender'].fillna(df['Gender'].mode()[0],inplace=True)\n",
    "df['Self_Employed'].fillna(df['Self_Employed'].mode()[0],inplace=True)\n",
    "df['Credit_History'].fillna(df['Credit_History'].mode()[0],inplace=True)\n",
    "df['Loan_Amount_Term'].fillna(df['Loan_Amount_Term'].mode()[0],inplace=True)\n",
    "df['Dependents'].fillna(df['Dependents'].mode()[0],inplace=True)\n"
   ]
  },
  {
   "cell_type": "code",
   "execution_count": 28,
   "id": "25ac49f2",
   "metadata": {},
   "outputs": [],
   "source": [
    "df['Dependents'].replace('3+','3', inplace= True)\n",
    "df['Dependents']= df['Dependents'].astype('int32')"
   ]
  },
  {
   "cell_type": "markdown",
   "id": "e797a73f",
   "metadata": {},
   "source": [
    "<h2> catgorical data with Target column </h2>"
   ]
  },
  {
   "cell_type": "code",
   "execution_count": 29,
   "id": "699bc031",
   "metadata": {},
   "outputs": [
    {
     "data": {
      "text/html": [
       "<div>\n",
       "<style scoped>\n",
       "    .dataframe tbody tr th:only-of-type {\n",
       "        vertical-align: middle;\n",
       "    }\n",
       "\n",
       "    .dataframe tbody tr th {\n",
       "        vertical-align: top;\n",
       "    }\n",
       "\n",
       "    .dataframe thead th {\n",
       "        text-align: right;\n",
       "    }\n",
       "</style>\n",
       "<table border=\"1\" class=\"dataframe\">\n",
       "  <thead>\n",
       "    <tr style=\"text-align: right;\">\n",
       "      <th></th>\n",
       "      <th>Gender</th>\n",
       "      <th>Married</th>\n",
       "      <th>Dependents</th>\n",
       "      <th>Education</th>\n",
       "      <th>Self_Employed</th>\n",
       "      <th>Loan_Amount_Term</th>\n",
       "      <th>Credit_History</th>\n",
       "      <th>Property_Area</th>\n",
       "    </tr>\n",
       "  </thead>\n",
       "  <tbody>\n",
       "    <tr>\n",
       "      <th>0</th>\n",
       "      <td>Male</td>\n",
       "      <td>No</td>\n",
       "      <td>0</td>\n",
       "      <td>Graduate</td>\n",
       "      <td>No</td>\n",
       "      <td>360.0</td>\n",
       "      <td>1.0</td>\n",
       "      <td>Urban</td>\n",
       "    </tr>\n",
       "    <tr>\n",
       "      <th>1</th>\n",
       "      <td>Male</td>\n",
       "      <td>Yes</td>\n",
       "      <td>1</td>\n",
       "      <td>Graduate</td>\n",
       "      <td>No</td>\n",
       "      <td>360.0</td>\n",
       "      <td>1.0</td>\n",
       "      <td>Rural</td>\n",
       "    </tr>\n",
       "  </tbody>\n",
       "</table>\n",
       "</div>"
      ],
      "text/plain": [
       "  Gender Married  Dependents Education Self_Employed  Loan_Amount_Term  \\\n",
       "0   Male      No           0  Graduate            No             360.0   \n",
       "1   Male     Yes           1  Graduate            No             360.0   \n",
       "\n",
       "   Credit_History Property_Area  \n",
       "0             1.0         Urban  \n",
       "1             1.0         Rural  "
      ]
     },
     "execution_count": 29,
     "metadata": {},
     "output_type": "execute_result"
    }
   ],
   "source": [
    "cat_col= df[['Gender', 'Married','Dependents','Education','Self_Employed','Loan_Amount_Term','Credit_History','Property_Area',]]\n",
    "cat_col.head(2)"
   ]
  },
  {
   "cell_type": "code",
   "execution_count": 30,
   "id": "39b6849e",
   "metadata": {},
   "outputs": [
    {
     "name": "stdout",
     "output_type": "stream",
     "text": [
      "Gender\n",
      "Male      500\n",
      "Female    111\n",
      "Name: Gender, dtype: int64\n"
     ]
    },
    {
     "data": {
      "image/png": "[encoded data removed]",
      "text/plain": [
       "<Figure size 432x288 with 1 Axes>"
      ]
     },
     "metadata": {
      "needs_background": "light"
     },
     "output_type": "display_data"
    },
    {
     "name": "stdout",
     "output_type": "stream",
     "text": [
      "Married\n",
      "Yes    398\n",
      "No     213\n",
      "Name: Married, dtype: int64\n"
     ]
    },
    {
     "data": {
      "image/png": "[encoded data removed]",
      "text/plain": [
       "<Figure size 432x288 with 1 Axes>"
      ]
     },
     "metadata": {
      "needs_background": "light"
     },
     "output_type": "display_data"
    },
    {
     "name": "stdout",
     "output_type": "stream",
     "text": [
      "Dependents\n",
      "0    357\n",
      "1    102\n",
      "2    101\n",
      "3     51\n",
      "Name: Dependents, dtype: int64\n"
     ]
    },
    {
     "data": {
      "image/png": "[encoded data removed]",
      "text/plain": [
       "<Figure size 432x288 with 1 Axes>"
      ]
     },
     "metadata": {
      "needs_background": "light"
     },
     "output_type": "display_data"
    },
    {
     "name": "stdout",
     "output_type": "stream",
     "text": [
      "Education\n",
      "Graduate        477\n",
      "Not Graduate    134\n",
      "Name: Education, dtype: int64\n"
     ]
    },
    {
     "data": {
      "image/png": "[encoded data removed]",
      "text/plain": [
       "<Figure size 432x288 with 1 Axes>"
      ]
     },
     "metadata": {
      "needs_background": "light"
     },
     "output_type": "display_data"
    },
    {
     "name": "stdout",
     "output_type": "stream",
     "text": [
      "Self_Employed\n",
      "No     529\n",
      "Yes     82\n",
      "Name: Self_Employed, dtype: int64\n"
     ]
    },
    {
     "data": {
      "image/png": "[encoded data removed]",
      "text/plain": [
       "<Figure size 432x288 with 1 Axes>"
      ]
     },
     "metadata": {
      "needs_background": "light"
     },
     "output_type": "display_data"
    },
    {
     "name": "stdout",
     "output_type": "stream",
     "text": [
      "Loan_Amount_Term\n",
      "360.0    525\n",
      "180.0     44\n",
      "480.0     14\n",
      "300.0     13\n",
      "84.0       4\n",
      "120.0      3\n",
      "240.0      3\n",
      "60.0       2\n",
      "36.0       2\n",
      "12.0       1\n",
      "Name: Loan_Amount_Term, dtype: int64\n"
     ]
    },
    {
     "data": {
      "image/png": "[encoded data removed]",
      "text/plain": [
       "<Figure size 432x288 with 1 Axes>"
      ]
     },
     "metadata": {
      "needs_background": "light"
     },
     "output_type": "display_data"
    },
    {
     "name": "stdout",
     "output_type": "stream",
     "text": [
      "Credit_History\n",
      "1.0    522\n",
      "0.0     89\n",
      "Name: Credit_History, dtype: int64\n"
     ]
    },
    {
     "data": {
      "image/png": "[encoded data removed]",
      "text/plain": [
       "<Figure size 432x288 with 1 Axes>"
      ]
     },
     "metadata": {
      "needs_background": "light"
     },
     "output_type": "display_data"
    },
    {
     "name": "stdout",
     "output_type": "stream",
     "text": [
      "Property_Area\n",
      "Semiurban    231\n",
      "Urban        201\n",
      "Rural        179\n",
      "Name: Property_Area, dtype: int64\n"
     ]
    },
    {
     "data": {
      "image/png": "[encoded data removed]",
      "text/plain": [
       "<Figure size 432x288 with 1 Axes>"
      ]
     },
     "metadata": {
      "needs_background": "light"
     },
     "output_type": "display_data"
    }
   ],
   "source": [
    "for col in cat_col:\n",
    "    print(col)\n",
    "    print(df[col].value_counts())\n",
    "    \n",
    "    plt.figure()\n",
    "    sns.countplot(x= df[col], data= df, hue='Loan_Status', palette=\"rocket\")\n",
    "    plt.show()"
   ]
  },
  {
   "cell_type": "markdown",
   "id": "237c2f8c",
   "metadata": {},
   "source": [
    "as per graph,\n",
    "\n",
    "Person gender is Male\n",
    "\n",
    "Status is Married\n",
    "\n",
    "Education is Graduate\n",
    "\n",
    "Not self_employed\n",
    "\n",
    "Loan amount term would be 360 days\n",
    "\n",
    "Credit History would be good\n",
    "\n",
    "Property Area would be Semiurban\n",
    "\n",
    "all of the above have high chances of loan approval"
   ]
  },
  {
   "cell_type": "markdown",
   "id": "d5a52f78",
   "metadata": {},
   "source": [
    "# Analysis of Numerical Values"
   ]
  },
  {
   "cell_type": "markdown",
   "id": "d6759c11",
   "metadata": {},
   "source": [
    "<h3> Filling Null Values in Numerical </h3>"
   ]
  },
  {
   "cell_type": "code",
   "execution_count": 31,
   "id": "8089369e",
   "metadata": {},
   "outputs": [
    {
     "data": {
      "text/plain": [
       "86358.0"
      ]
     },
     "execution_count": 31,
     "metadata": {},
     "output_type": "execute_result"
    }
   ],
   "source": [
    "df['LoanAmount'].sum()"
   ]
  },
  {
   "cell_type": "code",
   "execution_count": 32,
   "id": "29a3e002",
   "metadata": {},
   "outputs": [
    {
     "name": "stdout",
     "output_type": "stream",
     "text": [
      "True\n",
      "21\n"
     ]
    }
   ],
   "source": [
    "check_nan= df['LoanAmount'].isnull().values.any()\n",
    "print(check_nan)\n",
    "\n",
    "count_nan= df['LoanAmount'].isnull().sum()\n",
    "print(str(count_nan))"
   ]
  },
  {
   "cell_type": "code",
   "execution_count": 33,
   "id": "d3c12efb",
   "metadata": {},
   "outputs": [
    {
     "data": {
      "text/plain": [
       "146.36949152542374"
      ]
     },
     "execution_count": 33,
     "metadata": {},
     "output_type": "execute_result"
    }
   ],
   "source": [
    "df['LoanAmount'].mean()"
   ]
  },
  {
   "cell_type": "code",
   "execution_count": 34,
   "id": "8a8b92a7",
   "metadata": {},
   "outputs": [],
   "source": [
    "# Here filling Nan value with mean value\n",
    "\n",
    "df['LoanAmount'].fillna(df['LoanAmount'].mean(),inplace=True)"
   ]
  },
  {
   "cell_type": "code",
   "execution_count": 35,
   "id": "08397a57",
   "metadata": {},
   "outputs": [
    {
     "data": {
      "text/plain": [
       "89431.7593220339"
      ]
     },
     "execution_count": 35,
     "metadata": {},
     "output_type": "execute_result"
    }
   ],
   "source": [
    "df['LoanAmount'].sum()"
   ]
  },
  {
   "cell_type": "code",
   "execution_count": 36,
   "id": "104154cf",
   "metadata": {},
   "outputs": [
    {
     "data": {
      "text/plain": [
       "Loan_ID              0\n",
       "Gender               0\n",
       "Married              0\n",
       "Dependents           0\n",
       "Education            0\n",
       "Self_Employed        0\n",
       "ApplicantIncome      0\n",
       "CoapplicantIncome    0\n",
       "LoanAmount           0\n",
       "Loan_Amount_Term     0\n",
       "Credit_History       0\n",
       "Property_Area        0\n",
       "Loan_Status          0\n",
       "dtype: int64"
      ]
     },
     "execution_count": 36,
     "metadata": {},
     "output_type": "execute_result"
    }
   ],
   "source": [
    "df.isnull().sum()"
   ]
  },
  {
   "cell_type": "code",
   "execution_count": 37,
   "id": "be40e6ee",
   "metadata": {},
   "outputs": [
    {
     "data": {
      "text/plain": [
       "<AxesSubplot:>"
      ]
     },
     "execution_count": 37,
     "metadata": {},
     "output_type": "execute_result"
    },
    {
     "data": {
      "image/png": "[encoded data removed]",
      "text/plain": [
       "<Figure size 432x288 with 2 Axes>"
      ]
     },
     "metadata": {
      "needs_background": "light"
     },
     "output_type": "display_data"
    }
   ],
   "source": [
    "sns.heatmap(df.isnull())"
   ]
  },
  {
   "cell_type": "markdown",
   "id": "074278dc",
   "metadata": {},
   "source": [
    "<h2> Describe Numerical </h2>"
   ]
  },
  {
   "cell_type": "code",
   "execution_count": 38,
   "id": "247b6448",
   "metadata": {},
   "outputs": [
    {
     "data": {
      "text/html": [
       "<div>\n",
       "<style scoped>\n",
       "    .dataframe tbody tr th:only-of-type {\n",
       "        vertical-align: middle;\n",
       "    }\n",
       "\n",
       "    .dataframe tbody tr th {\n",
       "        vertical-align: top;\n",
       "    }\n",
       "\n",
       "    .dataframe thead th {\n",
       "        text-align: right;\n",
       "    }\n",
       "</style>\n",
       "<table border=\"1\" class=\"dataframe\">\n",
       "  <thead>\n",
       "    <tr style=\"text-align: right;\">\n",
       "      <th></th>\n",
       "      <th>Dependents</th>\n",
       "      <th>ApplicantIncome</th>\n",
       "      <th>CoapplicantIncome</th>\n",
       "      <th>LoanAmount</th>\n",
       "      <th>Loan_Amount_Term</th>\n",
       "      <th>Credit_History</th>\n",
       "    </tr>\n",
       "  </thead>\n",
       "  <tbody>\n",
       "    <tr>\n",
       "      <th>count</th>\n",
       "      <td>611.000000</td>\n",
       "      <td>611.000000</td>\n",
       "      <td>611.000000</td>\n",
       "      <td>611.000000</td>\n",
       "      <td>611.000000</td>\n",
       "      <td>611.000000</td>\n",
       "    </tr>\n",
       "    <tr>\n",
       "      <th>mean</th>\n",
       "      <td>0.747954</td>\n",
       "      <td>5399.513912</td>\n",
       "      <td>1627.972046</td>\n",
       "      <td>146.369492</td>\n",
       "      <td>342.324059</td>\n",
       "      <td>0.854337</td>\n",
       "    </tr>\n",
       "    <tr>\n",
       "      <th>std</th>\n",
       "      <td>1.010750</td>\n",
       "      <td>6120.764249</td>\n",
       "      <td>2931.747971</td>\n",
       "      <td>84.240750</td>\n",
       "      <td>64.208419</td>\n",
       "      <td>0.353057</td>\n",
       "    </tr>\n",
       "    <tr>\n",
       "      <th>min</th>\n",
       "      <td>0.000000</td>\n",
       "      <td>150.000000</td>\n",
       "      <td>0.000000</td>\n",
       "      <td>9.000000</td>\n",
       "      <td>12.000000</td>\n",
       "      <td>0.000000</td>\n",
       "    </tr>\n",
       "    <tr>\n",
       "      <th>25%</th>\n",
       "      <td>0.000000</td>\n",
       "      <td>2875.500000</td>\n",
       "      <td>0.000000</td>\n",
       "      <td>100.000000</td>\n",
       "      <td>360.000000</td>\n",
       "      <td>1.000000</td>\n",
       "    </tr>\n",
       "    <tr>\n",
       "      <th>50%</th>\n",
       "      <td>0.000000</td>\n",
       "      <td>3800.000000</td>\n",
       "      <td>1213.000000</td>\n",
       "      <td>128.000000</td>\n",
       "      <td>360.000000</td>\n",
       "      <td>1.000000</td>\n",
       "    </tr>\n",
       "    <tr>\n",
       "      <th>75%</th>\n",
       "      <td>1.000000</td>\n",
       "      <td>5790.000000</td>\n",
       "      <td>2304.000000</td>\n",
       "      <td>165.000000</td>\n",
       "      <td>360.000000</td>\n",
       "      <td>1.000000</td>\n",
       "    </tr>\n",
       "    <tr>\n",
       "      <th>max</th>\n",
       "      <td>3.000000</td>\n",
       "      <td>81000.000000</td>\n",
       "      <td>41667.000000</td>\n",
       "      <td>700.000000</td>\n",
       "      <td>480.000000</td>\n",
       "      <td>1.000000</td>\n",
       "    </tr>\n",
       "  </tbody>\n",
       "</table>\n",
       "</div>"
      ],
      "text/plain": [
       "       Dependents  ApplicantIncome  CoapplicantIncome  LoanAmount  \\\n",
       "count  611.000000       611.000000         611.000000  611.000000   \n",
       "mean     0.747954      5399.513912        1627.972046  146.369492   \n",
       "std      1.010750      6120.764249        2931.747971   84.240750   \n",
       "min      0.000000       150.000000           0.000000    9.000000   \n",
       "25%      0.000000      2875.500000           0.000000  100.000000   \n",
       "50%      0.000000      3800.000000        1213.000000  128.000000   \n",
       "75%      1.000000      5790.000000        2304.000000  165.000000   \n",
       "max      3.000000     81000.000000       41667.000000  700.000000   \n",
       "\n",
       "       Loan_Amount_Term  Credit_History  \n",
       "count        611.000000      611.000000  \n",
       "mean         342.324059        0.854337  \n",
       "std           64.208419        0.353057  \n",
       "min           12.000000        0.000000  \n",
       "25%          360.000000        1.000000  \n",
       "50%          360.000000        1.000000  \n",
       "75%          360.000000        1.000000  \n",
       "max          480.000000        1.000000  "
      ]
     },
     "execution_count": 38,
     "metadata": {},
     "output_type": "execute_result"
    }
   ],
   "source": [
    "df.describe()\n",
    "\n",
    "# dependents, Loan amount term and Credit History are Categorical column"
   ]
  },
  {
   "cell_type": "markdown",
   "id": "d19f179b",
   "metadata": {},
   "source": [
    "<h2> Skewness </h2>"
   ]
  },
  {
   "cell_type": "code",
   "execution_count": 39,
   "id": "a0023cb8",
   "metadata": {},
   "outputs": [
    {
     "data": {
      "text/html": [
       "<div>\n",
       "<style scoped>\n",
       "    .dataframe tbody tr th:only-of-type {\n",
       "        vertical-align: middle;\n",
       "    }\n",
       "\n",
       "    .dataframe tbody tr th {\n",
       "        vertical-align: top;\n",
       "    }\n",
       "\n",
       "    .dataframe thead th {\n",
       "        text-align: right;\n",
       "    }\n",
       "</style>\n",
       "<table border=\"1\" class=\"dataframe\">\n",
       "  <thead>\n",
       "    <tr style=\"text-align: right;\">\n",
       "      <th></th>\n",
       "      <th>ApplicantIncome</th>\n",
       "      <th>CoapplicantIncome</th>\n",
       "      <th>LoanAmount</th>\n",
       "    </tr>\n",
       "  </thead>\n",
       "  <tbody>\n",
       "    <tr>\n",
       "      <th>count</th>\n",
       "      <td>611.000000</td>\n",
       "      <td>611.000000</td>\n",
       "      <td>611.000000</td>\n",
       "    </tr>\n",
       "    <tr>\n",
       "      <th>mean</th>\n",
       "      <td>5399.513912</td>\n",
       "      <td>1627.972046</td>\n",
       "      <td>146.369492</td>\n",
       "    </tr>\n",
       "    <tr>\n",
       "      <th>std</th>\n",
       "      <td>6120.764249</td>\n",
       "      <td>2931.747971</td>\n",
       "      <td>84.240750</td>\n",
       "    </tr>\n",
       "    <tr>\n",
       "      <th>min</th>\n",
       "      <td>150.000000</td>\n",
       "      <td>0.000000</td>\n",
       "      <td>9.000000</td>\n",
       "    </tr>\n",
       "    <tr>\n",
       "      <th>25%</th>\n",
       "      <td>2875.500000</td>\n",
       "      <td>0.000000</td>\n",
       "      <td>100.000000</td>\n",
       "    </tr>\n",
       "    <tr>\n",
       "      <th>50%</th>\n",
       "      <td>3800.000000</td>\n",
       "      <td>1213.000000</td>\n",
       "      <td>128.000000</td>\n",
       "    </tr>\n",
       "    <tr>\n",
       "      <th>75%</th>\n",
       "      <td>5790.000000</td>\n",
       "      <td>2304.000000</td>\n",
       "      <td>165.000000</td>\n",
       "    </tr>\n",
       "    <tr>\n",
       "      <th>max</th>\n",
       "      <td>81000.000000</td>\n",
       "      <td>41667.000000</td>\n",
       "      <td>700.000000</td>\n",
       "    </tr>\n",
       "  </tbody>\n",
       "</table>\n",
       "</div>"
      ],
      "text/plain": [
       "       ApplicantIncome  CoapplicantIncome  LoanAmount\n",
       "count       611.000000         611.000000  611.000000\n",
       "mean       5399.513912        1627.972046  146.369492\n",
       "std        6120.764249        2931.747971   84.240750\n",
       "min         150.000000           0.000000    9.000000\n",
       "25%        2875.500000           0.000000  100.000000\n",
       "50%        3800.000000        1213.000000  128.000000\n",
       "75%        5790.000000        2304.000000  165.000000\n",
       "max       81000.000000       41667.000000  700.000000"
      ]
     },
     "execution_count": 39,
     "metadata": {},
     "output_type": "execute_result"
    }
   ],
   "source": [
    "df[['ApplicantIncome','CoapplicantIncome','LoanAmount']].describe()"
   ]
  },
  {
   "cell_type": "markdown",
   "id": "97c38221",
   "metadata": {},
   "source": [
    "mean < median : Negatively Skewed\n",
    "    \n",
    "mean > median : Positively Skewed\n",
    "    \n",
    "mean = = median : Symmetric\n",
    "\n",
    "Positive Skewness in Applicant Income, Capplicant Income, Loan Amount\n"
   ]
  },
  {
   "cell_type": "code",
   "execution_count": 40,
   "id": "1d4d373e",
   "metadata": {},
   "outputs": [],
   "source": [
    "from scipy.stats import skew"
   ]
  },
  {
   "cell_type": "code",
   "execution_count": 41,
   "id": "ddce2f05",
   "metadata": {},
   "outputs": [
    {
     "data": {
      "text/html": [
       "<div>\n",
       "<style scoped>\n",
       "    .dataframe tbody tr th:only-of-type {\n",
       "        vertical-align: middle;\n",
       "    }\n",
       "\n",
       "    .dataframe tbody tr th {\n",
       "        vertical-align: top;\n",
       "    }\n",
       "\n",
       "    .dataframe thead th {\n",
       "        text-align: right;\n",
       "    }\n",
       "</style>\n",
       "<table border=\"1\" class=\"dataframe\">\n",
       "  <thead>\n",
       "    <tr style=\"text-align: right;\">\n",
       "      <th></th>\n",
       "      <th>ApplicantIncome</th>\n",
       "      <th>CoapplicantIncome</th>\n",
       "      <th>LoanAmount</th>\n",
       "    </tr>\n",
       "  </thead>\n",
       "  <tbody>\n",
       "    <tr>\n",
       "      <th>0</th>\n",
       "      <td>5849</td>\n",
       "      <td>0.0</td>\n",
       "      <td>146.369492</td>\n",
       "    </tr>\n",
       "    <tr>\n",
       "      <th>1</th>\n",
       "      <td>4583</td>\n",
       "      <td>1508.0</td>\n",
       "      <td>128.000000</td>\n",
       "    </tr>\n",
       "  </tbody>\n",
       "</table>\n",
       "</div>"
      ],
      "text/plain": [
       "   ApplicantIncome  CoapplicantIncome  LoanAmount\n",
       "0             5849                0.0  146.369492\n",
       "1             4583             1508.0  128.000000"
      ]
     },
     "execution_count": 41,
     "metadata": {},
     "output_type": "execute_result"
    }
   ],
   "source": [
    "numerical= df[['ApplicantIncome','CoapplicantIncome','LoanAmount']]\n",
    "numerical.head(2)"
   ]
  },
  {
   "cell_type": "code",
   "execution_count": null,
   "id": "8d4a40e7",
   "metadata": {},
   "outputs": [],
   "source": []
  },
  {
   "cell_type": "code",
   "execution_count": 42,
   "id": "7380283d",
   "metadata": {
    "scrolled": true
   },
   "outputs": [
    {
     "name": "stdout",
     "output_type": "stream",
     "text": [
      "ApplicantIncome\n",
      "6.519290666766147\n"
     ]
    },
    {
     "data": {
      "image/png": "[encoded data removed]",
      "text/plain": [
       "<Figure size 432x288 with 1 Axes>"
      ]
     },
     "metadata": {
      "needs_background": "light"
     },
     "output_type": "display_data"
    },
    {
     "name": "stdout",
     "output_type": "stream",
     "text": [
      "CoapplicantIncome\n",
      "7.461525185756159\n"
     ]
    },
    {
     "data": {
      "image/png": "[encoded data removed]",
      "text/plain": [
       "<Figure size 432x288 with 1 Axes>"
      ]
     },
     "metadata": {
      "needs_background": "light"
     },
     "output_type": "display_data"
    },
    {
     "name": "stdout",
     "output_type": "stream",
     "text": [
      "LoanAmount\n",
      "2.7150931430725076\n"
     ]
    },
    {
     "data": {
      "image/png": "[encoded data removed]",
      "text/plain": [
       "<Figure size 432x288 with 1 Axes>"
      ]
     },
     "metadata": {
      "needs_background": "light"
     },
     "output_type": "display_data"
    }
   ],
   "source": [
    "for col in  numerical:\n",
    "    print(col)\n",
    "    print(skew(df[col]))\n",
    "    \n",
    "    plt.figure()\n",
    "    sns.distplot(df[col])\n",
    "    plt.show()"
   ]
  },
  {
   "cell_type": "raw",
   "id": "0e649050",
   "metadata": {},
   "source": [
    "--> A skewness value greater than 1 or less than -1 indicates a highly skewed distribution. \n",
    "--> A value between 0.5 and 1 or -0.5 and -1 is moderately skewed. \n",
    "--> A value between -0.5 and 0.5 indicates that the distribution is fairly symmetrical.\n",
    "\n",
    "Below mentioned attributes are highly skewed    \n",
    "Applicant Income: 6.51\n",
    "coapplicant Income: 7.46 , here 45% of data having 0 value, so we will apply log or sqrt on 0 value, we will not remove skewness.\n",
    "LoanAmount: 2.71"
   ]
  },
  {
   "cell_type": "code",
   "execution_count": 43,
   "id": "33ae2d68",
   "metadata": {
    "scrolled": true
   },
   "outputs": [
    {
     "data": {
      "text/plain": [
       "<AxesSubplot:>"
      ]
     },
     "execution_count": 43,
     "metadata": {},
     "output_type": "execute_result"
    },
    {
     "data": {
      "image/png": "[encoded data removed]",
      "text/plain": [
       "<Figure size 720x432 with 2 Axes>"
      ]
     },
     "metadata": {
      "needs_background": "light"
     },
     "output_type": "display_data"
    }
   ],
   "source": [
    "plt.figure(figsize=(10,6))\n",
    "sns.heatmap(df.corr(),annot=True)"
   ]
  },
  {
   "cell_type": "markdown",
   "id": "1f45def2",
   "metadata": {},
   "source": [
    "--> Loan amount has good correlation with Applicant Income\n",
    "\n",
    "--> other columns have lesser correlation with each other"
   ]
  },
  {
   "cell_type": "code",
   "execution_count": 44,
   "id": "c8e33d74",
   "metadata": {},
   "outputs": [
    {
     "data": {
      "text/plain": [
       "0.0       271\n",
       "1666.0      5\n",
       "2500.0      5\n",
       "2083.0      5\n",
       "1625.0      3\n",
       "5625.0      3\n",
       "1459.0      3\n",
       "2333.0      3\n",
       "1800.0      3\n",
       "2250.0      3\n",
       "Name: CoapplicantIncome, dtype: int64"
      ]
     },
     "execution_count": 44,
     "metadata": {},
     "output_type": "execute_result"
    }
   ],
   "source": [
    "df['CoapplicantIncome'].value_counts().sort_values(ascending=False).head(10)"
   ]
  },
  {
   "cell_type": "markdown",
   "id": "c7474b96",
   "metadata": {},
   "source": [
    "# Remove Skewness"
   ]
  },
  {
   "cell_type": "code",
   "execution_count": 45,
   "id": "23b6cda0",
   "metadata": {},
   "outputs": [],
   "source": [
    "df['ApplicantIncome'] = np.log(df['ApplicantIncome'])\n",
    "df['LoanAmount'] = np.log(df['LoanAmount'])"
   ]
  },
  {
   "cell_type": "code",
   "execution_count": 46,
   "id": "274dab2e",
   "metadata": {},
   "outputs": [
    {
     "name": "stdout",
     "output_type": "stream",
     "text": [
      "ApplicantIncome\n",
      "0.4822832612548211\n"
     ]
    },
    {
     "data": {
      "image/png": "[encoded data removed]",
      "text/plain": [
       "<Figure size 432x288 with 1 Axes>"
      ]
     },
     "metadata": {
      "needs_background": "light"
     },
     "output_type": "display_data"
    },
    {
     "name": "stdout",
     "output_type": "stream",
     "text": [
      "LoanAmount\n",
      "-0.2172565804219097\n"
     ]
    },
    {
     "data": {
      "image/png": "[encoded data removed]",
      "text/plain": [
       "<Figure size 432x288 with 1 Axes>"
      ]
     },
     "metadata": {
      "needs_background": "light"
     },
     "output_type": "display_data"
    }
   ],
   "source": [
    "num= df[['ApplicantIncome','LoanAmount']]\n",
    "for col in  num:\n",
    "    print(col)\n",
    "    print(skew(df[col]))\n",
    "    \n",
    "    plt.figure()\n",
    "    sns.distplot(df[col])\n",
    "    plt.show()\n",
    "\n",
    "    "
   ]
  },
  {
   "cell_type": "markdown",
   "id": "1f3ef47d",
   "metadata": {},
   "source": [
    "Now Skewness has been removed from ApplicantIncome and Loan Amount"
   ]
  },
  {
   "cell_type": "code",
   "execution_count": null,
   "id": "480caa15",
   "metadata": {},
   "outputs": [],
   "source": []
  },
  {
   "cell_type": "code",
   "execution_count": null,
   "id": "02ef5947",
   "metadata": {},
   "outputs": [],
   "source": []
  },
  {
   "cell_type": "markdown",
   "id": "0ea5cefc",
   "metadata": {},
   "source": [
    "<h2> Replace Outlier with mean </h2>"
   ]
  },
  {
   "cell_type": "code",
   "execution_count": 47,
   "id": "eb94aef2",
   "metadata": {},
   "outputs": [
    {
     "data": {
      "text/plain": [
       "<Figure size 1080x576 with 0 Axes>"
      ]
     },
     "metadata": {},
     "output_type": "display_data"
    },
    {
     "data": {
      "image/png": "[encoded data removed]",
      "text/plain": [
       "<Figure size 360x360 with 1 Axes>"
      ]
     },
     "metadata": {
      "needs_background": "light"
     },
     "output_type": "display_data"
    }
   ],
   "source": [
    "plt.figure(figsize=(15,8))\n",
    "sns.catplot(data=numerical,kind='box')\n",
    "plt.xticks(rotation=90)\n",
    "plt.show()"
   ]
  },
  {
   "cell_type": "code",
   "execution_count": 48,
   "id": "0d56c0db",
   "metadata": {},
   "outputs": [
    {
     "data": {
      "text/html": [
       "<div>\n",
       "<style scoped>\n",
       "    .dataframe tbody tr th:only-of-type {\n",
       "        vertical-align: middle;\n",
       "    }\n",
       "\n",
       "    .dataframe tbody tr th {\n",
       "        vertical-align: top;\n",
       "    }\n",
       "\n",
       "    .dataframe thead th {\n",
       "        text-align: right;\n",
       "    }\n",
       "</style>\n",
       "<table border=\"1\" class=\"dataframe\">\n",
       "  <thead>\n",
       "    <tr style=\"text-align: right;\">\n",
       "      <th></th>\n",
       "      <th>Dependents</th>\n",
       "      <th>ApplicantIncome</th>\n",
       "      <th>CoapplicantIncome</th>\n",
       "      <th>LoanAmount</th>\n",
       "      <th>Loan_Amount_Term</th>\n",
       "      <th>Credit_History</th>\n",
       "    </tr>\n",
       "  </thead>\n",
       "  <tbody>\n",
       "    <tr>\n",
       "      <th>count</th>\n",
       "      <td>611.000000</td>\n",
       "      <td>611.000000</td>\n",
       "      <td>611.000000</td>\n",
       "      <td>611.000000</td>\n",
       "      <td>611.000000</td>\n",
       "      <td>611.000000</td>\n",
       "    </tr>\n",
       "    <tr>\n",
       "      <th>mean</th>\n",
       "      <td>0.747954</td>\n",
       "      <td>8.339730</td>\n",
       "      <td>1627.972046</td>\n",
       "      <td>4.861175</td>\n",
       "      <td>342.324059</td>\n",
       "      <td>0.854337</td>\n",
       "    </tr>\n",
       "    <tr>\n",
       "      <th>std</th>\n",
       "      <td>1.010750</td>\n",
       "      <td>0.645846</td>\n",
       "      <td>2931.747971</td>\n",
       "      <td>0.497624</td>\n",
       "      <td>64.208419</td>\n",
       "      <td>0.353057</td>\n",
       "    </tr>\n",
       "    <tr>\n",
       "      <th>min</th>\n",
       "      <td>0.000000</td>\n",
       "      <td>5.010635</td>\n",
       "      <td>0.000000</td>\n",
       "      <td>2.197225</td>\n",
       "      <td>12.000000</td>\n",
       "      <td>0.000000</td>\n",
       "    </tr>\n",
       "    <tr>\n",
       "      <th>25%</th>\n",
       "      <td>0.000000</td>\n",
       "      <td>7.963982</td>\n",
       "      <td>0.000000</td>\n",
       "      <td>4.605170</td>\n",
       "      <td>360.000000</td>\n",
       "      <td>1.000000</td>\n",
       "    </tr>\n",
       "    <tr>\n",
       "      <th>50%</th>\n",
       "      <td>0.000000</td>\n",
       "      <td>8.242756</td>\n",
       "      <td>1213.000000</td>\n",
       "      <td>4.852030</td>\n",
       "      <td>360.000000</td>\n",
       "      <td>1.000000</td>\n",
       "    </tr>\n",
       "    <tr>\n",
       "      <th>75%</th>\n",
       "      <td>1.000000</td>\n",
       "      <td>8.663886</td>\n",
       "      <td>2304.000000</td>\n",
       "      <td>5.105945</td>\n",
       "      <td>360.000000</td>\n",
       "      <td>1.000000</td>\n",
       "    </tr>\n",
       "    <tr>\n",
       "      <th>max</th>\n",
       "      <td>3.000000</td>\n",
       "      <td>11.302204</td>\n",
       "      <td>41667.000000</td>\n",
       "      <td>6.551080</td>\n",
       "      <td>480.000000</td>\n",
       "      <td>1.000000</td>\n",
       "    </tr>\n",
       "  </tbody>\n",
       "</table>\n",
       "</div>"
      ],
      "text/plain": [
       "       Dependents  ApplicantIncome  CoapplicantIncome  LoanAmount  \\\n",
       "count  611.000000       611.000000         611.000000  611.000000   \n",
       "mean     0.747954         8.339730        1627.972046    4.861175   \n",
       "std      1.010750         0.645846        2931.747971    0.497624   \n",
       "min      0.000000         5.010635           0.000000    2.197225   \n",
       "25%      0.000000         7.963982           0.000000    4.605170   \n",
       "50%      0.000000         8.242756        1213.000000    4.852030   \n",
       "75%      1.000000         8.663886        2304.000000    5.105945   \n",
       "max      3.000000        11.302204       41667.000000    6.551080   \n",
       "\n",
       "       Loan_Amount_Term  Credit_History  \n",
       "count        611.000000      611.000000  \n",
       "mean         342.324059        0.854337  \n",
       "std           64.208419        0.353057  \n",
       "min           12.000000        0.000000  \n",
       "25%          360.000000        1.000000  \n",
       "50%          360.000000        1.000000  \n",
       "75%          360.000000        1.000000  \n",
       "max          480.000000        1.000000  "
      ]
     },
     "execution_count": 48,
     "metadata": {},
     "output_type": "execute_result"
    }
   ],
   "source": [
    "df.describe()"
   ]
  },
  {
   "cell_type": "code",
   "execution_count": 49,
   "id": "5e393b07",
   "metadata": {},
   "outputs": [
    {
     "name": "stdout",
     "output_type": "stream",
     "text": [
      "ApplicantIncome\n",
      "IQR:  0.6999042430642728\n",
      "\n",
      "Upper Whishker: 9.713742443696876 \n",
      "Down Whishker : 6.914125471439784\n",
      "\n",
      "\n",
      "CoapplicantIncome\n",
      "IQR:  2304.0\n",
      "\n",
      "Upper Whishker: 5760.0 \n",
      "Down Whishker : -3456.0\n",
      "\n",
      "\n",
      "LoanAmount\n",
      "IQR:  0.5007752879124885\n",
      "\n",
      "Upper Whishker: 5.8571084057693135 \n",
      "Down Whishker : 3.854007254119359\n",
      "\n",
      "\n"
     ]
    }
   ],
   "source": [
    "\n",
    "for col in numerical:\n",
    "    print(col)\n",
    "    iqr = df[col].quantile(0.75)-df[col].quantile(0.25)\n",
    "    print(\"IQR: \", iqr)\n",
    "    \n",
    "    upper_wishker= df[col].quantile(0.75) + 1.5*iqr\n",
    "    down_whisker= df[col].quantile(0.25) - 1.5*iqr\n",
    "    print(f\"\\nUpper Whishker: {upper_wishker} \\nDown Whishker : {down_whisker}\")\n",
    "    print()\n",
    "    print()"
   ]
  },
  {
   "cell_type": "code",
   "execution_count": 50,
   "id": "abc754d1",
   "metadata": {
    "scrolled": true
   },
   "outputs": [
    {
     "name": "stdout",
     "output_type": "stream",
     "text": [
      "ApplicantIncome\n"
     ]
    },
    {
     "data": {
      "image/png": "[encoded data removed]",
      "text/plain": [
       "<Figure size 432x288 with 1 Axes>"
      ]
     },
     "metadata": {
      "needs_background": "light"
     },
     "output_type": "display_data"
    },
    {
     "name": "stdout",
     "output_type": "stream",
     "text": [
      "CoapplicantIncome\n"
     ]
    },
    {
     "data": {
      "image/png": "[encoded data removed]",
      "text/plain": [
       "<Figure size 432x288 with 1 Axes>"
      ]
     },
     "metadata": {
      "needs_background": "light"
     },
     "output_type": "display_data"
    },
    {
     "name": "stdout",
     "output_type": "stream",
     "text": [
      "LoanAmount\n"
     ]
    },
    {
     "data": {
      "image/png": "[encoded data removed]",
      "text/plain": [
       "<Figure size 432x288 with 1 Axes>"
      ]
     },
     "metadata": {
      "needs_background": "light"
     },
     "output_type": "display_data"
    }
   ],
   "source": [
    "for col in numerical:\n",
    "    print(col)\n",
    "    \n",
    "    plt.figure()\n",
    "    sns.boxplot(x= df[col], data= df)\n",
    "    plt.show()"
   ]
  },
  {
   "cell_type": "markdown",
   "id": "21cdd411",
   "metadata": {},
   "source": [
    "<h1> Replace outlier with capping (min & max) </h1>"
   ]
  },
  {
   "cell_type": "code",
   "execution_count": 51,
   "id": "2ed80aa6",
   "metadata": {},
   "outputs": [
    {
     "data": {
      "text/plain": [
       "Loan_ID              22\n",
       "Gender               22\n",
       "Married              22\n",
       "Dependents           22\n",
       "Education            22\n",
       "Self_Employed        22\n",
       "ApplicantIncome      22\n",
       "CoapplicantIncome    22\n",
       "LoanAmount           22\n",
       "Loan_Amount_Term     22\n",
       "Credit_History       22\n",
       "Property_Area        22\n",
       "Loan_Status          22\n",
       "dtype: int64"
      ]
     },
     "execution_count": 51,
     "metadata": {},
     "output_type": "execute_result"
    }
   ],
   "source": [
    "df[df.ApplicantIncome>9.71].count()"
   ]
  },
  {
   "cell_type": "code",
   "execution_count": 52,
   "id": "514084f0",
   "metadata": {},
   "outputs": [
    {
     "data": {
      "text/plain": [
       "Loan_ID              8\n",
       "Gender               8\n",
       "Married              8\n",
       "Dependents           8\n",
       "Education            8\n",
       "Self_Employed        8\n",
       "ApplicantIncome      8\n",
       "CoapplicantIncome    8\n",
       "LoanAmount           8\n",
       "Loan_Amount_Term     8\n",
       "Credit_History       8\n",
       "Property_Area        8\n",
       "Loan_Status          8\n",
       "dtype: int64"
      ]
     },
     "execution_count": 52,
     "metadata": {},
     "output_type": "execute_result"
    }
   ],
   "source": [
    "df[df.ApplicantIncome <7.0].count()"
   ]
  },
  {
   "cell_type": "markdown",
   "id": "3b44711c",
   "metadata": {},
   "source": [
    "<h2> Applying Capping to Outlier</h2>"
   ]
  },
  {
   "cell_type": "code",
   "execution_count": 53,
   "id": "c971c218",
   "metadata": {},
   "outputs": [],
   "source": [
    "df['ApplicantIncome'].mask(df['ApplicantIncome']> 9.71,9.71, inplace= True)\n",
    "df['ApplicantIncome'].mask(df['ApplicantIncome']< 7, 7, inplace= True)\n",
    "\n",
    "df['CoapplicantIncome'].mask(df['CoapplicantIncome']> 5160,5100, inplace= True)\n",
    "\n",
    "\n",
    "df['LoanAmount'].mask(df['LoanAmount']> 5.85 ,5.80, inplace= True)\n",
    "df['LoanAmount'].mask(df['LoanAmount']< 3.95 ,3.95, inplace= True)\n"
   ]
  },
  {
   "cell_type": "code",
   "execution_count": 54,
   "id": "b1346806",
   "metadata": {
    "scrolled": true
   },
   "outputs": [
    {
     "name": "stdout",
     "output_type": "stream",
     "text": [
      "ApplicantIncome\n"
     ]
    },
    {
     "data": {
      "image/png": "[encoded data removed]",
      "text/plain": [
       "<Figure size 432x288 with 1 Axes>"
      ]
     },
     "metadata": {
      "needs_background": "light"
     },
     "output_type": "display_data"
    },
    {
     "name": "stdout",
     "output_type": "stream",
     "text": [
      "CoapplicantIncome\n"
     ]
    },
    {
     "data": {
      "image/png": "[encoded data removed]",
      "text/plain": [
       "<Figure size 432x288 with 1 Axes>"
      ]
     },
     "metadata": {
      "needs_background": "light"
     },
     "output_type": "display_data"
    },
    {
     "name": "stdout",
     "output_type": "stream",
     "text": [
      "LoanAmount\n"
     ]
    },
    {
     "data": {
      "image/png": "[encoded data removed]",
      "text/plain": [
       "<Figure size 432x288 with 1 Axes>"
      ]
     },
     "metadata": {
      "needs_background": "light"
     },
     "output_type": "display_data"
    }
   ],
   "source": [
    "for col in numerical:\n",
    "    print(col)\n",
    "    \n",
    "    plt.figure()\n",
    "    sns.boxplot(x= df[col], data= df)\n",
    "    plt.show()"
   ]
  },
  {
   "cell_type": "code",
   "execution_count": 55,
   "id": "2ad9f689",
   "metadata": {},
   "outputs": [
    {
     "data": {
      "text/html": [
       "<div>\n",
       "<style scoped>\n",
       "    .dataframe tbody tr th:only-of-type {\n",
       "        vertical-align: middle;\n",
       "    }\n",
       "\n",
       "    .dataframe tbody tr th {\n",
       "        vertical-align: top;\n",
       "    }\n",
       "\n",
       "    .dataframe thead th {\n",
       "        text-align: right;\n",
       "    }\n",
       "</style>\n",
       "<table border=\"1\" class=\"dataframe\">\n",
       "  <thead>\n",
       "    <tr style=\"text-align: right;\">\n",
       "      <th></th>\n",
       "      <th>Dependents</th>\n",
       "      <th>ApplicantIncome</th>\n",
       "      <th>CoapplicantIncome</th>\n",
       "      <th>LoanAmount</th>\n",
       "      <th>Loan_Amount_Term</th>\n",
       "      <th>Credit_History</th>\n",
       "    </tr>\n",
       "  </thead>\n",
       "  <tbody>\n",
       "    <tr>\n",
       "      <th>count</th>\n",
       "      <td>611.000000</td>\n",
       "      <td>611.000000</td>\n",
       "      <td>611.000000</td>\n",
       "      <td>611.000000</td>\n",
       "      <td>611.000000</td>\n",
       "      <td>611.000000</td>\n",
       "    </tr>\n",
       "    <tr>\n",
       "      <th>mean</th>\n",
       "      <td>0.747954</td>\n",
       "      <td>8.334075</td>\n",
       "      <td>1399.589067</td>\n",
       "      <td>4.863667</td>\n",
       "      <td>342.324059</td>\n",
       "      <td>0.854337</td>\n",
       "    </tr>\n",
       "    <tr>\n",
       "      <th>std</th>\n",
       "      <td>1.010750</td>\n",
       "      <td>0.567189</td>\n",
       "      <td>1561.556711</td>\n",
       "      <td>0.427280</td>\n",
       "      <td>64.208419</td>\n",
       "      <td>0.353057</td>\n",
       "    </tr>\n",
       "    <tr>\n",
       "      <th>min</th>\n",
       "      <td>0.000000</td>\n",
       "      <td>7.000000</td>\n",
       "      <td>0.000000</td>\n",
       "      <td>3.950000</td>\n",
       "      <td>12.000000</td>\n",
       "      <td>0.000000</td>\n",
       "    </tr>\n",
       "    <tr>\n",
       "      <th>25%</th>\n",
       "      <td>0.000000</td>\n",
       "      <td>7.963982</td>\n",
       "      <td>0.000000</td>\n",
       "      <td>4.605170</td>\n",
       "      <td>360.000000</td>\n",
       "      <td>1.000000</td>\n",
       "    </tr>\n",
       "    <tr>\n",
       "      <th>50%</th>\n",
       "      <td>0.000000</td>\n",
       "      <td>8.242756</td>\n",
       "      <td>1213.000000</td>\n",
       "      <td>4.852030</td>\n",
       "      <td>360.000000</td>\n",
       "      <td>1.000000</td>\n",
       "    </tr>\n",
       "    <tr>\n",
       "      <th>75%</th>\n",
       "      <td>1.000000</td>\n",
       "      <td>8.663886</td>\n",
       "      <td>2304.000000</td>\n",
       "      <td>5.105945</td>\n",
       "      <td>360.000000</td>\n",
       "      <td>1.000000</td>\n",
       "    </tr>\n",
       "    <tr>\n",
       "      <th>max</th>\n",
       "      <td>3.000000</td>\n",
       "      <td>9.710000</td>\n",
       "      <td>5100.000000</td>\n",
       "      <td>5.800000</td>\n",
       "      <td>480.000000</td>\n",
       "      <td>1.000000</td>\n",
       "    </tr>\n",
       "  </tbody>\n",
       "</table>\n",
       "</div>"
      ],
      "text/plain": [
       "       Dependents  ApplicantIncome  CoapplicantIncome  LoanAmount  \\\n",
       "count  611.000000       611.000000         611.000000  611.000000   \n",
       "mean     0.747954         8.334075        1399.589067    4.863667   \n",
       "std      1.010750         0.567189        1561.556711    0.427280   \n",
       "min      0.000000         7.000000           0.000000    3.950000   \n",
       "25%      0.000000         7.963982           0.000000    4.605170   \n",
       "50%      0.000000         8.242756        1213.000000    4.852030   \n",
       "75%      1.000000         8.663886        2304.000000    5.105945   \n",
       "max      3.000000         9.710000        5100.000000    5.800000   \n",
       "\n",
       "       Loan_Amount_Term  Credit_History  \n",
       "count        611.000000      611.000000  \n",
       "mean         342.324059        0.854337  \n",
       "std           64.208419        0.353057  \n",
       "min           12.000000        0.000000  \n",
       "25%          360.000000        1.000000  \n",
       "50%          360.000000        1.000000  \n",
       "75%          360.000000        1.000000  \n",
       "max          480.000000        1.000000  "
      ]
     },
     "execution_count": 55,
     "metadata": {},
     "output_type": "execute_result"
    }
   ],
   "source": [
    "df.describe()"
   ]
  },
  {
   "cell_type": "code",
   "execution_count": 56,
   "id": "ca02bcb2",
   "metadata": {},
   "outputs": [
    {
     "data": {
      "text/html": [
       "<div>\n",
       "<style scoped>\n",
       "    .dataframe tbody tr th:only-of-type {\n",
       "        vertical-align: middle;\n",
       "    }\n",
       "\n",
       "    .dataframe tbody tr th {\n",
       "        vertical-align: top;\n",
       "    }\n",
       "\n",
       "    .dataframe thead th {\n",
       "        text-align: right;\n",
       "    }\n",
       "</style>\n",
       "<table border=\"1\" class=\"dataframe\">\n",
       "  <thead>\n",
       "    <tr style=\"text-align: right;\">\n",
       "      <th></th>\n",
       "      <th>Dependents</th>\n",
       "      <th>ApplicantIncome</th>\n",
       "      <th>CoapplicantIncome</th>\n",
       "      <th>LoanAmount</th>\n",
       "      <th>Loan_Amount_Term</th>\n",
       "      <th>Credit_History</th>\n",
       "    </tr>\n",
       "  </thead>\n",
       "  <tbody>\n",
       "    <tr>\n",
       "      <th>Dependents</th>\n",
       "      <td>1.000000</td>\n",
       "      <td>0.119721</td>\n",
       "      <td>-0.039713</td>\n",
       "      <td>0.165420</td>\n",
       "      <td>-0.103619</td>\n",
       "      <td>-0.038736</td>\n",
       "    </tr>\n",
       "    <tr>\n",
       "      <th>ApplicantIncome</th>\n",
       "      <td>0.119721</td>\n",
       "      <td>1.000000</td>\n",
       "      <td>-0.253953</td>\n",
       "      <td>0.510529</td>\n",
       "      <td>-0.020727</td>\n",
       "      <td>0.030457</td>\n",
       "    </tr>\n",
       "    <tr>\n",
       "      <th>CoapplicantIncome</th>\n",
       "      <td>-0.039713</td>\n",
       "      <td>-0.253953</td>\n",
       "      <td>1.000000</td>\n",
       "      <td>0.270354</td>\n",
       "      <td>-0.022766</td>\n",
       "      <td>-0.001370</td>\n",
       "    </tr>\n",
       "    <tr>\n",
       "      <th>LoanAmount</th>\n",
       "      <td>0.165420</td>\n",
       "      <td>0.510529</td>\n",
       "      <td>0.270354</td>\n",
       "      <td>1.000000</td>\n",
       "      <td>0.065390</td>\n",
       "      <td>-0.009545</td>\n",
       "    </tr>\n",
       "    <tr>\n",
       "      <th>Loan_Amount_Term</th>\n",
       "      <td>-0.103619</td>\n",
       "      <td>-0.020727</td>\n",
       "      <td>-0.022766</td>\n",
       "      <td>0.065390</td>\n",
       "      <td>1.000000</td>\n",
       "      <td>-0.005291</td>\n",
       "    </tr>\n",
       "    <tr>\n",
       "      <th>Credit_History</th>\n",
       "      <td>-0.038736</td>\n",
       "      <td>0.030457</td>\n",
       "      <td>-0.001370</td>\n",
       "      <td>-0.009545</td>\n",
       "      <td>-0.005291</td>\n",
       "      <td>1.000000</td>\n",
       "    </tr>\n",
       "  </tbody>\n",
       "</table>\n",
       "</div>"
      ],
      "text/plain": [
       "                   Dependents  ApplicantIncome  CoapplicantIncome  LoanAmount  \\\n",
       "Dependents           1.000000         0.119721          -0.039713    0.165420   \n",
       "ApplicantIncome      0.119721         1.000000          -0.253953    0.510529   \n",
       "CoapplicantIncome   -0.039713        -0.253953           1.000000    0.270354   \n",
       "LoanAmount           0.165420         0.510529           0.270354    1.000000   \n",
       "Loan_Amount_Term    -0.103619        -0.020727          -0.022766    0.065390   \n",
       "Credit_History      -0.038736         0.030457          -0.001370   -0.009545   \n",
       "\n",
       "                   Loan_Amount_Term  Credit_History  \n",
       "Dependents                -0.103619       -0.038736  \n",
       "ApplicantIncome           -0.020727        0.030457  \n",
       "CoapplicantIncome         -0.022766       -0.001370  \n",
       "LoanAmount                 0.065390       -0.009545  \n",
       "Loan_Amount_Term           1.000000       -0.005291  \n",
       "Credit_History            -0.005291        1.000000  "
      ]
     },
     "execution_count": 56,
     "metadata": {},
     "output_type": "execute_result"
    }
   ],
   "source": [
    "df.corr()"
   ]
  },
  {
   "cell_type": "code",
   "execution_count": 57,
   "id": "95801131",
   "metadata": {},
   "outputs": [
    {
     "data": {
      "text/html": [
       "<div>\n",
       "<style scoped>\n",
       "    .dataframe tbody tr th:only-of-type {\n",
       "        vertical-align: middle;\n",
       "    }\n",
       "\n",
       "    .dataframe tbody tr th {\n",
       "        vertical-align: top;\n",
       "    }\n",
       "\n",
       "    .dataframe thead th {\n",
       "        text-align: right;\n",
       "    }\n",
       "</style>\n",
       "<table border=\"1\" class=\"dataframe\">\n",
       "  <thead>\n",
       "    <tr style=\"text-align: right;\">\n",
       "      <th></th>\n",
       "      <th>Loan_ID</th>\n",
       "      <th>Gender</th>\n",
       "      <th>Married</th>\n",
       "      <th>Dependents</th>\n",
       "      <th>Education</th>\n",
       "      <th>Self_Employed</th>\n",
       "      <th>ApplicantIncome</th>\n",
       "      <th>CoapplicantIncome</th>\n",
       "      <th>LoanAmount</th>\n",
       "      <th>Loan_Amount_Term</th>\n",
       "      <th>Credit_History</th>\n",
       "      <th>Property_Area</th>\n",
       "      <th>Loan_Status</th>\n",
       "    </tr>\n",
       "  </thead>\n",
       "  <tbody>\n",
       "    <tr>\n",
       "      <th>0</th>\n",
       "      <td>LP001002</td>\n",
       "      <td>Male</td>\n",
       "      <td>No</td>\n",
       "      <td>0</td>\n",
       "      <td>Graduate</td>\n",
       "      <td>No</td>\n",
       "      <td>8.674026</td>\n",
       "      <td>0.0</td>\n",
       "      <td>4.986134</td>\n",
       "      <td>360.0</td>\n",
       "      <td>1.0</td>\n",
       "      <td>Urban</td>\n",
       "      <td>Y</td>\n",
       "    </tr>\n",
       "    <tr>\n",
       "      <th>1</th>\n",
       "      <td>LP001003</td>\n",
       "      <td>Male</td>\n",
       "      <td>Yes</td>\n",
       "      <td>1</td>\n",
       "      <td>Graduate</td>\n",
       "      <td>No</td>\n",
       "      <td>8.430109</td>\n",
       "      <td>1508.0</td>\n",
       "      <td>4.852030</td>\n",
       "      <td>360.0</td>\n",
       "      <td>1.0</td>\n",
       "      <td>Rural</td>\n",
       "      <td>N</td>\n",
       "    </tr>\n",
       "    <tr>\n",
       "      <th>2</th>\n",
       "      <td>LP001005</td>\n",
       "      <td>Male</td>\n",
       "      <td>Yes</td>\n",
       "      <td>0</td>\n",
       "      <td>Graduate</td>\n",
       "      <td>Yes</td>\n",
       "      <td>8.006368</td>\n",
       "      <td>0.0</td>\n",
       "      <td>4.189655</td>\n",
       "      <td>360.0</td>\n",
       "      <td>1.0</td>\n",
       "      <td>Urban</td>\n",
       "      <td>Y</td>\n",
       "    </tr>\n",
       "    <tr>\n",
       "      <th>3</th>\n",
       "      <td>LP001006</td>\n",
       "      <td>Male</td>\n",
       "      <td>Yes</td>\n",
       "      <td>0</td>\n",
       "      <td>Not Graduate</td>\n",
       "      <td>No</td>\n",
       "      <td>7.856707</td>\n",
       "      <td>2358.0</td>\n",
       "      <td>4.787492</td>\n",
       "      <td>360.0</td>\n",
       "      <td>1.0</td>\n",
       "      <td>Urban</td>\n",
       "      <td>Y</td>\n",
       "    </tr>\n",
       "    <tr>\n",
       "      <th>4</th>\n",
       "      <td>LP001008</td>\n",
       "      <td>Male</td>\n",
       "      <td>No</td>\n",
       "      <td>0</td>\n",
       "      <td>Graduate</td>\n",
       "      <td>No</td>\n",
       "      <td>8.699515</td>\n",
       "      <td>0.0</td>\n",
       "      <td>4.948760</td>\n",
       "      <td>360.0</td>\n",
       "      <td>1.0</td>\n",
       "      <td>Urban</td>\n",
       "      <td>Y</td>\n",
       "    </tr>\n",
       "  </tbody>\n",
       "</table>\n",
       "</div>"
      ],
      "text/plain": [
       "    Loan_ID Gender Married  Dependents     Education Self_Employed  \\\n",
       "0  LP001002   Male      No           0      Graduate            No   \n",
       "1  LP001003   Male     Yes           1      Graduate            No   \n",
       "2  LP001005   Male     Yes           0      Graduate           Yes   \n",
       "3  LP001006   Male     Yes           0  Not Graduate            No   \n",
       "4  LP001008   Male      No           0      Graduate            No   \n",
       "\n",
       "   ApplicantIncome  CoapplicantIncome  LoanAmount  Loan_Amount_Term  \\\n",
       "0         8.674026                0.0    4.986134             360.0   \n",
       "1         8.430109             1508.0    4.852030             360.0   \n",
       "2         8.006368                0.0    4.189655             360.0   \n",
       "3         7.856707             2358.0    4.787492             360.0   \n",
       "4         8.699515                0.0    4.948760             360.0   \n",
       "\n",
       "   Credit_History Property_Area Loan_Status  \n",
       "0             1.0         Urban           Y  \n",
       "1             1.0         Rural           N  \n",
       "2             1.0         Urban           Y  \n",
       "3             1.0         Urban           Y  \n",
       "4             1.0         Urban           Y  "
      ]
     },
     "execution_count": 57,
     "metadata": {},
     "output_type": "execute_result"
    }
   ],
   "source": [
    "df.head()"
   ]
  },
  {
   "cell_type": "code",
   "execution_count": 58,
   "id": "9c956c33",
   "metadata": {},
   "outputs": [
    {
     "name": "stdout",
     "output_type": "stream",
     "text": [
      "<class 'pandas.core.frame.DataFrame'>\n",
      "Int64Index: 611 entries, 0 to 613\n",
      "Data columns (total 13 columns):\n",
      " #   Column             Non-Null Count  Dtype  \n",
      "---  ------             --------------  -----  \n",
      " 0   Loan_ID            611 non-null    object \n",
      " 1   Gender             611 non-null    object \n",
      " 2   Married            611 non-null    object \n",
      " 3   Dependents         611 non-null    int32  \n",
      " 4   Education          611 non-null    object \n",
      " 5   Self_Employed      611 non-null    object \n",
      " 6   ApplicantIncome    611 non-null    float64\n",
      " 7   CoapplicantIncome  611 non-null    float64\n",
      " 8   LoanAmount         611 non-null    float64\n",
      " 9   Loan_Amount_Term   611 non-null    float64\n",
      " 10  Credit_History     611 non-null    float64\n",
      " 11  Property_Area      611 non-null    object \n",
      " 12  Loan_Status        611 non-null    object \n",
      "dtypes: float64(5), int32(1), object(7)\n",
      "memory usage: 64.4+ KB\n"
     ]
    }
   ],
   "source": [
    "df.info()"
   ]
  },
  {
   "cell_type": "code",
   "execution_count": 59,
   "id": "c9d33f05",
   "metadata": {},
   "outputs": [],
   "source": [
    "df.drop(['Loan_ID'], axis=1, inplace= True)"
   ]
  },
  {
   "cell_type": "markdown",
   "id": "64db1062",
   "metadata": {},
   "source": [
    "<h2> Split dataset </h2>"
   ]
  },
  {
   "cell_type": "code",
   "execution_count": 60,
   "id": "20e2a5b2",
   "metadata": {},
   "outputs": [],
   "source": [
    "x= df.iloc[:,:-1]\n",
    "y= df.iloc[:,-1]\n"
   ]
  },
  {
   "cell_type": "code",
   "execution_count": 61,
   "id": "c3251f4a",
   "metadata": {},
   "outputs": [
    {
     "data": {
      "text/html": [
       "<div>\n",
       "<style scoped>\n",
       "    .dataframe tbody tr th:only-of-type {\n",
       "        vertical-align: middle;\n",
       "    }\n",
       "\n",
       "    .dataframe tbody tr th {\n",
       "        vertical-align: top;\n",
       "    }\n",
       "\n",
       "    .dataframe thead th {\n",
       "        text-align: right;\n",
       "    }\n",
       "</style>\n",
       "<table border=\"1\" class=\"dataframe\">\n",
       "  <thead>\n",
       "    <tr style=\"text-align: right;\">\n",
       "      <th></th>\n",
       "      <th>Gender</th>\n",
       "      <th>Married</th>\n",
       "      <th>Dependents</th>\n",
       "      <th>Education</th>\n",
       "      <th>Self_Employed</th>\n",
       "      <th>ApplicantIncome</th>\n",
       "      <th>CoapplicantIncome</th>\n",
       "      <th>LoanAmount</th>\n",
       "      <th>Loan_Amount_Term</th>\n",
       "      <th>Credit_History</th>\n",
       "      <th>Property_Area</th>\n",
       "    </tr>\n",
       "  </thead>\n",
       "  <tbody>\n",
       "    <tr>\n",
       "      <th>0</th>\n",
       "      <td>Male</td>\n",
       "      <td>No</td>\n",
       "      <td>0</td>\n",
       "      <td>Graduate</td>\n",
       "      <td>No</td>\n",
       "      <td>8.674026</td>\n",
       "      <td>0.0</td>\n",
       "      <td>4.986134</td>\n",
       "      <td>360.0</td>\n",
       "      <td>1.0</td>\n",
       "      <td>Urban</td>\n",
       "    </tr>\n",
       "    <tr>\n",
       "      <th>1</th>\n",
       "      <td>Male</td>\n",
       "      <td>Yes</td>\n",
       "      <td>1</td>\n",
       "      <td>Graduate</td>\n",
       "      <td>No</td>\n",
       "      <td>8.430109</td>\n",
       "      <td>1508.0</td>\n",
       "      <td>4.852030</td>\n",
       "      <td>360.0</td>\n",
       "      <td>1.0</td>\n",
       "      <td>Rural</td>\n",
       "    </tr>\n",
       "    <tr>\n",
       "      <th>2</th>\n",
       "      <td>Male</td>\n",
       "      <td>Yes</td>\n",
       "      <td>0</td>\n",
       "      <td>Graduate</td>\n",
       "      <td>Yes</td>\n",
       "      <td>8.006368</td>\n",
       "      <td>0.0</td>\n",
       "      <td>4.189655</td>\n",
       "      <td>360.0</td>\n",
       "      <td>1.0</td>\n",
       "      <td>Urban</td>\n",
       "    </tr>\n",
       "    <tr>\n",
       "      <th>3</th>\n",
       "      <td>Male</td>\n",
       "      <td>Yes</td>\n",
       "      <td>0</td>\n",
       "      <td>Not Graduate</td>\n",
       "      <td>No</td>\n",
       "      <td>7.856707</td>\n",
       "      <td>2358.0</td>\n",
       "      <td>4.787492</td>\n",
       "      <td>360.0</td>\n",
       "      <td>1.0</td>\n",
       "      <td>Urban</td>\n",
       "    </tr>\n",
       "    <tr>\n",
       "      <th>4</th>\n",
       "      <td>Male</td>\n",
       "      <td>No</td>\n",
       "      <td>0</td>\n",
       "      <td>Graduate</td>\n",
       "      <td>No</td>\n",
       "      <td>8.699515</td>\n",
       "      <td>0.0</td>\n",
       "      <td>4.948760</td>\n",
       "      <td>360.0</td>\n",
       "      <td>1.0</td>\n",
       "      <td>Urban</td>\n",
       "    </tr>\n",
       "    <tr>\n",
       "      <th>...</th>\n",
       "      <td>...</td>\n",
       "      <td>...</td>\n",
       "      <td>...</td>\n",
       "      <td>...</td>\n",
       "      <td>...</td>\n",
       "      <td>...</td>\n",
       "      <td>...</td>\n",
       "      <td>...</td>\n",
       "      <td>...</td>\n",
       "      <td>...</td>\n",
       "      <td>...</td>\n",
       "    </tr>\n",
       "    <tr>\n",
       "      <th>609</th>\n",
       "      <td>Female</td>\n",
       "      <td>No</td>\n",
       "      <td>0</td>\n",
       "      <td>Graduate</td>\n",
       "      <td>No</td>\n",
       "      <td>7.972466</td>\n",
       "      <td>0.0</td>\n",
       "      <td>4.262680</td>\n",
       "      <td>360.0</td>\n",
       "      <td>1.0</td>\n",
       "      <td>Rural</td>\n",
       "    </tr>\n",
       "    <tr>\n",
       "      <th>610</th>\n",
       "      <td>Male</td>\n",
       "      <td>Yes</td>\n",
       "      <td>3</td>\n",
       "      <td>Graduate</td>\n",
       "      <td>No</td>\n",
       "      <td>8.320205</td>\n",
       "      <td>0.0</td>\n",
       "      <td>3.950000</td>\n",
       "      <td>180.0</td>\n",
       "      <td>1.0</td>\n",
       "      <td>Rural</td>\n",
       "    </tr>\n",
       "    <tr>\n",
       "      <th>611</th>\n",
       "      <td>Male</td>\n",
       "      <td>Yes</td>\n",
       "      <td>1</td>\n",
       "      <td>Graduate</td>\n",
       "      <td>No</td>\n",
       "      <td>8.996157</td>\n",
       "      <td>240.0</td>\n",
       "      <td>5.533389</td>\n",
       "      <td>360.0</td>\n",
       "      <td>1.0</td>\n",
       "      <td>Urban</td>\n",
       "    </tr>\n",
       "    <tr>\n",
       "      <th>612</th>\n",
       "      <td>Male</td>\n",
       "      <td>Yes</td>\n",
       "      <td>2</td>\n",
       "      <td>Graduate</td>\n",
       "      <td>No</td>\n",
       "      <td>8.933664</td>\n",
       "      <td>0.0</td>\n",
       "      <td>5.231109</td>\n",
       "      <td>360.0</td>\n",
       "      <td>1.0</td>\n",
       "      <td>Urban</td>\n",
       "    </tr>\n",
       "    <tr>\n",
       "      <th>613</th>\n",
       "      <td>Female</td>\n",
       "      <td>No</td>\n",
       "      <td>0</td>\n",
       "      <td>Graduate</td>\n",
       "      <td>Yes</td>\n",
       "      <td>8.430109</td>\n",
       "      <td>0.0</td>\n",
       "      <td>4.890349</td>\n",
       "      <td>360.0</td>\n",
       "      <td>0.0</td>\n",
       "      <td>Semiurban</td>\n",
       "    </tr>\n",
       "  </tbody>\n",
       "</table>\n",
       "<p>611 rows × 11 columns</p>\n",
       "</div>"
      ],
      "text/plain": [
       "     Gender Married  Dependents     Education Self_Employed  ApplicantIncome  \\\n",
       "0      Male      No           0      Graduate            No         8.674026   \n",
       "1      Male     Yes           1      Graduate            No         8.430109   \n",
       "2      Male     Yes           0      Graduate           Yes         8.006368   \n",
       "3      Male     Yes           0  Not Graduate            No         7.856707   \n",
       "4      Male      No           0      Graduate            No         8.699515   \n",
       "..      ...     ...         ...           ...           ...              ...   \n",
       "609  Female      No           0      Graduate            No         7.972466   \n",
       "610    Male     Yes           3      Graduate            No         8.320205   \n",
       "611    Male     Yes           1      Graduate            No         8.996157   \n",
       "612    Male     Yes           2      Graduate            No         8.933664   \n",
       "613  Female      No           0      Graduate           Yes         8.430109   \n",
       "\n",
       "     CoapplicantIncome  LoanAmount  Loan_Amount_Term  Credit_History  \\\n",
       "0                  0.0    4.986134             360.0             1.0   \n",
       "1               1508.0    4.852030             360.0             1.0   \n",
       "2                  0.0    4.189655             360.0             1.0   \n",
       "3               2358.0    4.787492             360.0             1.0   \n",
       "4                  0.0    4.948760             360.0             1.0   \n",
       "..                 ...         ...               ...             ...   \n",
       "609                0.0    4.262680             360.0             1.0   \n",
       "610                0.0    3.950000             180.0             1.0   \n",
       "611              240.0    5.533389             360.0             1.0   \n",
       "612                0.0    5.231109             360.0             1.0   \n",
       "613                0.0    4.890349             360.0             0.0   \n",
       "\n",
       "    Property_Area  \n",
       "0           Urban  \n",
       "1           Rural  \n",
       "2           Urban  \n",
       "3           Urban  \n",
       "4           Urban  \n",
       "..            ...  \n",
       "609         Rural  \n",
       "610         Rural  \n",
       "611         Urban  \n",
       "612         Urban  \n",
       "613     Semiurban  \n",
       "\n",
       "[611 rows x 11 columns]"
      ]
     },
     "execution_count": 61,
     "metadata": {},
     "output_type": "execute_result"
    }
   ],
   "source": [
    "x"
   ]
  },
  {
   "cell_type": "markdown",
   "id": "2e724d99",
   "metadata": {},
   "source": [
    "<h2> Encoding Features data </h2>"
   ]
  },
  {
   "cell_type": "code",
   "execution_count": 62,
   "id": "9fd09e33",
   "metadata": {},
   "outputs": [
    {
     "data": {
      "text/plain": [
       "Index(['Gender', 'Married', 'Education', 'Self_Employed', 'Property_Area'], dtype='object')"
      ]
     },
     "execution_count": 62,
     "metadata": {},
     "output_type": "execute_result"
    }
   ],
   "source": [
    "obj= x.select_dtypes(['object']).columns\n",
    "obj"
   ]
  },
  {
   "cell_type": "code",
   "execution_count": 63,
   "id": "1d6aeb2b",
   "metadata": {
    "scrolled": true
   },
   "outputs": [
    {
     "name": "stdout",
     "output_type": "stream",
     "text": [
      "Male      500\n",
      "Female    111\n",
      "Name: Gender, dtype: int64\n",
      "\n",
      " \n",
      "\n",
      "Yes    398\n",
      "No     213\n",
      "Name: Married, dtype: int64\n",
      "\n",
      " \n",
      "\n",
      "Graduate        477\n",
      "Not Graduate    134\n",
      "Name: Education, dtype: int64\n",
      "\n",
      " \n",
      "\n",
      "No     529\n",
      "Yes     82\n",
      "Name: Self_Employed, dtype: int64\n",
      "\n",
      " \n",
      "\n",
      "Semiurban    231\n",
      "Urban        201\n",
      "Rural        179\n",
      "Name: Property_Area, dtype: int64\n",
      "\n",
      " \n",
      "\n"
     ]
    }
   ],
   "source": [
    "for i in obj:\n",
    "    print(x[i].value_counts())\n",
    "    print(\"\\n \\n\")"
   ]
  },
  {
   "cell_type": "code",
   "execution_count": 64,
   "id": "69e37289",
   "metadata": {},
   "outputs": [],
   "source": [
    "from sklearn.preprocessing import OrdinalEncoder"
   ]
  },
  {
   "cell_type": "code",
   "execution_count": 65,
   "id": "820fdaa2",
   "metadata": {},
   "outputs": [],
   "source": [
    "oe= OrdinalEncoder()\n",
    "x[obj]= oe.fit_transform(x[obj])"
   ]
  },
  {
   "cell_type": "code",
   "execution_count": 66,
   "id": "d4921280",
   "metadata": {},
   "outputs": [
    {
     "data": {
      "text/html": [
       "<div>\n",
       "<style scoped>\n",
       "    .dataframe tbody tr th:only-of-type {\n",
       "        vertical-align: middle;\n",
       "    }\n",
       "\n",
       "    .dataframe tbody tr th {\n",
       "        vertical-align: top;\n",
       "    }\n",
       "\n",
       "    .dataframe thead th {\n",
       "        text-align: right;\n",
       "    }\n",
       "</style>\n",
       "<table border=\"1\" class=\"dataframe\">\n",
       "  <thead>\n",
       "    <tr style=\"text-align: right;\">\n",
       "      <th></th>\n",
       "      <th>Gender</th>\n",
       "      <th>Married</th>\n",
       "      <th>Dependents</th>\n",
       "      <th>Education</th>\n",
       "      <th>Self_Employed</th>\n",
       "      <th>ApplicantIncome</th>\n",
       "      <th>CoapplicantIncome</th>\n",
       "      <th>LoanAmount</th>\n",
       "      <th>Loan_Amount_Term</th>\n",
       "      <th>Credit_History</th>\n",
       "      <th>Property_Area</th>\n",
       "    </tr>\n",
       "  </thead>\n",
       "  <tbody>\n",
       "    <tr>\n",
       "      <th>0</th>\n",
       "      <td>1.0</td>\n",
       "      <td>0.0</td>\n",
       "      <td>0</td>\n",
       "      <td>0.0</td>\n",
       "      <td>0.0</td>\n",
       "      <td>8.674026</td>\n",
       "      <td>0.0</td>\n",
       "      <td>4.986134</td>\n",
       "      <td>360.0</td>\n",
       "      <td>1.0</td>\n",
       "      <td>2.0</td>\n",
       "    </tr>\n",
       "    <tr>\n",
       "      <th>1</th>\n",
       "      <td>1.0</td>\n",
       "      <td>1.0</td>\n",
       "      <td>1</td>\n",
       "      <td>0.0</td>\n",
       "      <td>0.0</td>\n",
       "      <td>8.430109</td>\n",
       "      <td>1508.0</td>\n",
       "      <td>4.852030</td>\n",
       "      <td>360.0</td>\n",
       "      <td>1.0</td>\n",
       "      <td>0.0</td>\n",
       "    </tr>\n",
       "    <tr>\n",
       "      <th>2</th>\n",
       "      <td>1.0</td>\n",
       "      <td>1.0</td>\n",
       "      <td>0</td>\n",
       "      <td>0.0</td>\n",
       "      <td>1.0</td>\n",
       "      <td>8.006368</td>\n",
       "      <td>0.0</td>\n",
       "      <td>4.189655</td>\n",
       "      <td>360.0</td>\n",
       "      <td>1.0</td>\n",
       "      <td>2.0</td>\n",
       "    </tr>\n",
       "  </tbody>\n",
       "</table>\n",
       "</div>"
      ],
      "text/plain": [
       "   Gender  Married  Dependents  Education  Self_Employed  ApplicantIncome  \\\n",
       "0     1.0      0.0           0        0.0            0.0         8.674026   \n",
       "1     1.0      1.0           1        0.0            0.0         8.430109   \n",
       "2     1.0      1.0           0        0.0            1.0         8.006368   \n",
       "\n",
       "   CoapplicantIncome  LoanAmount  Loan_Amount_Term  Credit_History  \\\n",
       "0                0.0    4.986134             360.0             1.0   \n",
       "1             1508.0    4.852030             360.0             1.0   \n",
       "2                0.0    4.189655             360.0             1.0   \n",
       "\n",
       "   Property_Area  \n",
       "0            2.0  \n",
       "1            0.0  \n",
       "2            2.0  "
      ]
     },
     "execution_count": 66,
     "metadata": {},
     "output_type": "execute_result"
    }
   ],
   "source": [
    "x.head(3)"
   ]
  },
  {
   "cell_type": "code",
   "execution_count": null,
   "id": "1a2eb164",
   "metadata": {},
   "outputs": [],
   "source": []
  },
  {
   "cell_type": "markdown",
   "id": "eaded34f",
   "metadata": {},
   "source": [
    " <h2> Apply Encoding to Target </h2>"
   ]
  },
  {
   "cell_type": "code",
   "execution_count": 67,
   "id": "aa0ebc17",
   "metadata": {},
   "outputs": [],
   "source": [
    "from sklearn.preprocessing import LabelEncoder"
   ]
  },
  {
   "cell_type": "code",
   "execution_count": 68,
   "id": "c7c43d95",
   "metadata": {},
   "outputs": [
    {
     "data": {
      "text/plain": [
       "array([1, 0, 1, 1, 1, 1, 1, 0, 1, 0, 1, 1, 1, 0, 1, 1, 1, 0, 0, 1, 0, 1,\n",
       "       0, 0, 0, 1, 1, 1, 0, 1, 0, 0, 0, 1, 0, 1, 0, 1, 1, 1, 0, 1, 1, 1,\n",
       "       1, 1, 1, 1, 0, 1, 1, 1, 0, 0, 0, 1, 1, 0, 1, 1, 1, 1, 0, 0, 0, 0,\n",
       "       0, 1, 1, 0, 1, 1, 1, 0, 1, 0, 0, 0, 0, 1, 1, 1, 0, 0, 1, 1, 1, 1,\n",
       "       1, 1, 1, 1, 1, 1, 1, 0, 1, 1, 1, 1, 1, 1, 1, 1, 1, 1, 0, 0, 1, 1,\n",
       "       1, 0, 1, 1, 1, 1, 1, 0, 1, 1, 1, 1, 1, 1, 1, 1, 1, 0, 0, 1, 1, 1,\n",
       "       1, 1, 0, 0, 1, 0, 0, 0, 1, 1, 1, 1, 1, 1, 1, 0, 1, 0, 1, 0, 0, 1,\n",
       "       1, 1, 1, 1, 1, 1, 0, 0, 1, 1, 1, 0, 1, 0, 1, 1, 1, 0, 1, 0, 1, 1,\n",
       "       0, 1, 0, 0, 0, 1, 0, 1, 1, 0, 1, 1, 1, 1, 0, 0, 1, 1, 0, 1, 1, 1,\n",
       "       0, 1, 1, 0, 1, 1, 1, 1, 1, 1, 0, 0, 0, 1, 1, 1, 1, 0, 1, 0, 1, 0,\n",
       "       1, 1, 1, 1, 0, 0, 1, 1, 1, 1, 1, 1, 1, 1, 0, 1, 1, 1, 1, 0, 1, 1,\n",
       "       1, 0, 1, 1, 1, 1, 0, 0, 1, 1, 0, 1, 0, 0, 0, 0, 1, 1, 0, 1, 1, 1,\n",
       "       1, 1, 0, 1, 1, 1, 1, 1, 1, 1, 1, 1, 1, 1, 0, 1, 1, 1, 0, 1, 0, 1,\n",
       "       1, 1, 1, 0, 1, 0, 1, 1, 1, 1, 0, 0, 0, 1, 1, 1, 1, 0, 1, 0, 0, 1,\n",
       "       1, 1, 1, 1, 0, 1, 1, 1, 1, 0, 1, 1, 1, 1, 1, 0, 1, 1, 0, 1, 1, 1,\n",
       "       1, 1, 1, 1, 1, 1, 0, 1, 0, 0, 1, 1, 1, 1, 0, 1, 1, 1, 1, 0, 1, 0,\n",
       "       1, 1, 1, 0, 0, 1, 0, 1, 1, 1, 1, 0, 0, 0, 1, 0, 1, 1, 1, 0, 1, 1,\n",
       "       1, 1, 0, 1, 1, 1, 1, 1, 0, 1, 1, 0, 1, 1, 1, 1, 1, 1, 1, 1, 0, 1,\n",
       "       1, 0, 0, 0, 1, 1, 0, 1, 1, 1, 0, 0, 0, 1, 0, 1, 0, 1, 0, 0, 1, 1,\n",
       "       1, 0, 1, 0, 1, 1, 0, 1, 1, 1, 1, 0, 1, 1, 1, 1, 1, 0, 1, 1, 1, 1,\n",
       "       1, 1, 1, 1, 0, 0, 0, 0, 1, 0, 1, 1, 1, 1, 0, 1, 0, 1, 1, 1, 1, 0,\n",
       "       1, 0, 1, 1, 0, 1, 0, 1, 1, 1, 1, 1, 0, 1, 0, 1, 1, 1, 1, 1, 1, 0,\n",
       "       0, 1, 0, 1, 1, 1, 1, 0, 1, 1, 1, 1, 0, 1, 1, 1, 0, 1, 1, 1, 0, 1,\n",
       "       1, 0, 1, 1, 0, 0, 1, 1, 0, 0, 0, 1, 1, 1, 1, 0, 1, 1, 1, 1, 1, 1,\n",
       "       1, 0, 0, 1, 1, 1, 1, 0, 1, 1, 0, 1, 1, 1, 1, 0, 1, 0, 1, 0, 1, 1,\n",
       "       0, 0, 1, 1, 1, 1, 1, 1, 1, 1, 1, 0, 1, 1, 0, 0, 0, 1, 0, 1, 0, 0,\n",
       "       1, 0, 1, 1, 1, 1, 0, 1, 0, 0, 0, 1, 1, 1, 0, 1, 0, 1, 1, 1, 1, 0,\n",
       "       0, 1, 1, 0, 1, 1, 1, 1, 0, 1, 1, 1, 1, 1, 1, 1, 0])"
      ]
     },
     "execution_count": 68,
     "metadata": {},
     "output_type": "execute_result"
    }
   ],
   "source": [
    "le= LabelEncoder()\n",
    "le.fit_transform(y) "
   ]
  },
  {
   "cell_type": "markdown",
   "id": "8832d1ca",
   "metadata": {},
   "source": [
    "<h1> Scale dataset  </h1>"
   ]
  },
  {
   "cell_type": "code",
   "execution_count": 69,
   "id": "0eb97e60",
   "metadata": {},
   "outputs": [
    {
     "data": {
      "text/html": [
       "<div>\n",
       "<style scoped>\n",
       "    .dataframe tbody tr th:only-of-type {\n",
       "        vertical-align: middle;\n",
       "    }\n",
       "\n",
       "    .dataframe tbody tr th {\n",
       "        vertical-align: top;\n",
       "    }\n",
       "\n",
       "    .dataframe thead th {\n",
       "        text-align: right;\n",
       "    }\n",
       "</style>\n",
       "<table border=\"1\" class=\"dataframe\">\n",
       "  <thead>\n",
       "    <tr style=\"text-align: right;\">\n",
       "      <th></th>\n",
       "      <th>Gender</th>\n",
       "      <th>Married</th>\n",
       "      <th>Dependents</th>\n",
       "      <th>Education</th>\n",
       "      <th>Self_Employed</th>\n",
       "      <th>ApplicantIncome</th>\n",
       "      <th>CoapplicantIncome</th>\n",
       "      <th>LoanAmount</th>\n",
       "      <th>Loan_Amount_Term</th>\n",
       "      <th>Credit_History</th>\n",
       "      <th>Property_Area</th>\n",
       "    </tr>\n",
       "  </thead>\n",
       "  <tbody>\n",
       "    <tr>\n",
       "      <th>0</th>\n",
       "      <td>0.471169</td>\n",
       "      <td>-1.366947</td>\n",
       "      <td>-0.740606</td>\n",
       "      <td>-0.530021</td>\n",
       "      <td>-0.393712</td>\n",
       "      <td>0.599852</td>\n",
       "      <td>-0.897012</td>\n",
       "      <td>0.286854</td>\n",
       "      <td>0.275516</td>\n",
       "      <td>0.412914</td>\n",
       "      <td>1.223647</td>\n",
       "    </tr>\n",
       "    <tr>\n",
       "      <th>1</th>\n",
       "      <td>0.471169</td>\n",
       "      <td>0.731557</td>\n",
       "      <td>0.249570</td>\n",
       "      <td>-0.530021</td>\n",
       "      <td>-0.393712</td>\n",
       "      <td>0.169455</td>\n",
       "      <td>0.069482</td>\n",
       "      <td>-0.027258</td>\n",
       "      <td>0.275516</td>\n",
       "      <td>0.412914</td>\n",
       "      <td>-1.315057</td>\n",
       "    </tr>\n",
       "    <tr>\n",
       "      <th>2</th>\n",
       "      <td>0.471169</td>\n",
       "      <td>0.731557</td>\n",
       "      <td>-0.740606</td>\n",
       "      <td>-0.530021</td>\n",
       "      <td>2.539925</td>\n",
       "      <td>-0.578248</td>\n",
       "      <td>-0.897012</td>\n",
       "      <td>-1.578743</td>\n",
       "      <td>0.275516</td>\n",
       "      <td>0.412914</td>\n",
       "      <td>1.223647</td>\n",
       "    </tr>\n",
       "    <tr>\n",
       "      <th>3</th>\n",
       "      <td>0.471169</td>\n",
       "      <td>0.731557</td>\n",
       "      <td>-0.740606</td>\n",
       "      <td>1.886717</td>\n",
       "      <td>-0.393712</td>\n",
       "      <td>-0.842329</td>\n",
       "      <td>0.614256</td>\n",
       "      <td>-0.178427</td>\n",
       "      <td>0.275516</td>\n",
       "      <td>0.412914</td>\n",
       "      <td>1.223647</td>\n",
       "    </tr>\n",
       "    <tr>\n",
       "      <th>4</th>\n",
       "      <td>0.471169</td>\n",
       "      <td>-1.366947</td>\n",
       "      <td>-0.740606</td>\n",
       "      <td>-0.530021</td>\n",
       "      <td>-0.393712</td>\n",
       "      <td>0.644828</td>\n",
       "      <td>-0.897012</td>\n",
       "      <td>0.199312</td>\n",
       "      <td>0.275516</td>\n",
       "      <td>0.412914</td>\n",
       "      <td>1.223647</td>\n",
       "    </tr>\n",
       "  </tbody>\n",
       "</table>\n",
       "</div>"
      ],
      "text/plain": [
       "     Gender   Married  Dependents  Education  Self_Employed  ApplicantIncome  \\\n",
       "0  0.471169 -1.366947   -0.740606  -0.530021      -0.393712         0.599852   \n",
       "1  0.471169  0.731557    0.249570  -0.530021      -0.393712         0.169455   \n",
       "2  0.471169  0.731557   -0.740606  -0.530021       2.539925        -0.578248   \n",
       "3  0.471169  0.731557   -0.740606   1.886717      -0.393712        -0.842329   \n",
       "4  0.471169 -1.366947   -0.740606  -0.530021      -0.393712         0.644828   \n",
       "\n",
       "   CoapplicantIncome  LoanAmount  Loan_Amount_Term  Credit_History  \\\n",
       "0          -0.897012    0.286854          0.275516        0.412914   \n",
       "1           0.069482   -0.027258          0.275516        0.412914   \n",
       "2          -0.897012   -1.578743          0.275516        0.412914   \n",
       "3           0.614256   -0.178427          0.275516        0.412914   \n",
       "4          -0.897012    0.199312          0.275516        0.412914   \n",
       "\n",
       "   Property_Area  \n",
       "0       1.223647  \n",
       "1      -1.315057  \n",
       "2       1.223647  \n",
       "3       1.223647  \n",
       "4       1.223647  "
      ]
     },
     "execution_count": 69,
     "metadata": {},
     "output_type": "execute_result"
    }
   ],
   "source": [
    "from sklearn.preprocessing import StandardScaler\n",
    "ss= StandardScaler()\n",
    "x.iloc[:,:] = ss.fit_transform(x.iloc[:,:])\n",
    "x.head()"
   ]
  },
  {
   "cell_type": "markdown",
   "id": "a5ce04cb",
   "metadata": {},
   "source": [
    "# <h1> Split dataset into train and test </h1>"
   ]
  },
  {
   "cell_type": "code",
   "execution_count": 70,
   "id": "1aa66a5b",
   "metadata": {},
   "outputs": [],
   "source": [
    "from sklearn.model_selection import train_test_split\n",
    "xtrain,xtest,ytrain, ytest= train_test_split(x,y,test_size=0.2, random_state=1, stratify=y)"
   ]
  },
  {
   "cell_type": "raw",
   "id": "b586e0ff",
   "metadata": {},
   "source": [
    "stratify=y for imbalance data"
   ]
  },
  {
   "cell_type": "markdown",
   "id": "ef531047",
   "metadata": {},
   "source": [
    "# Model"
   ]
  },
  {
   "cell_type": "code",
   "execution_count": 71,
   "id": "57f1c43e",
   "metadata": {},
   "outputs": [],
   "source": [
    "from sklearn.linear_model import LogisticRegression\n",
    "from sklearn.neighbors import KNeighborsClassifier\n",
    "from sklearn.svm import SVC\n",
    "from sklearn.naive_bayes import GaussianNB\n",
    "from sklearn.tree import DecisionTreeClassifier\n",
    "\n",
    "\n",
    "from sklearn.metrics import accuracy_score, confusion_matrix,classification_report"
   ]
  },
  {
   "cell_type": "markdown",
   "id": "28aba7d8",
   "metadata": {},
   "source": [
    "# Random Over Sampler"
   ]
  },
  {
   "cell_type": "code",
   "execution_count": 72,
   "id": "0cf5eb8c",
   "metadata": {},
   "outputs": [],
   "source": [
    "from imblearn.over_sampling import RandomOverSampler\n",
    "ros= RandomOverSampler()\n",
    "x_label, y_label = ros.fit_resample(xtrain,ytrain)"
   ]
  },
  {
   "cell_type": "code",
   "execution_count": 73,
   "id": "240c5b6f",
   "metadata": {},
   "outputs": [
    {
     "data": {
      "text/plain": [
       "N    335\n",
       "Y    335\n",
       "Name: Loan_Status, dtype: int64"
      ]
     },
     "execution_count": 73,
     "metadata": {},
     "output_type": "execute_result"
    }
   ],
   "source": [
    "y_label.value_counts()"
   ]
  },
  {
   "cell_type": "code",
   "execution_count": 74,
   "id": "24e04b05",
   "metadata": {},
   "outputs": [],
   "source": [
    "def mymodel(model):\n",
    "    model.fit(x_label,y_label)\n",
    "    ypred=model.predict(xtest)\n",
    "    \n",
    "    tr=model.score(x_label,y_label)\n",
    "    te=model.score(xtest,ytest)\n",
    "    \n",
    "    print(str(model)[:-2],'Accuracy: ',accuracy_score(ytest,ypred),\\\n",
    "          '\\nConfusion Matrix: \\n',confusion_matrix(ytest,ypred))\n",
    "    print(\"Classification report: \\n\",classification_report(ytest,ypred))\n",
    "    print(f'Training Accuracy: {tr}\\nTesting Accuracy: {te}')\n",
    "  \n",
    "    \n",
    "    return model"
   ]
  },
  {
   "cell_type": "markdown",
   "id": "3ec4ad1a",
   "metadata": {},
   "source": [
    "# Logistic Regression"
   ]
  },
  {
   "cell_type": "code",
   "execution_count": 75,
   "id": "0088b570",
   "metadata": {},
   "outputs": [
    {
     "name": "stdout",
     "output_type": "stream",
     "text": [
      "LogisticRegression Accuracy:  0.7479674796747967 \n",
      "Confusion Matrix: \n",
      " [[24 15]\n",
      " [16 68]]\n",
      "Classification report: \n",
      "               precision    recall  f1-score   support\n",
      "\n",
      "           N       0.60      0.62      0.61        39\n",
      "           Y       0.82      0.81      0.81        84\n",
      "\n",
      "    accuracy                           0.75       123\n",
      "   macro avg       0.71      0.71      0.71       123\n",
      "weighted avg       0.75      0.75      0.75       123\n",
      "\n",
      "Training Accuracy: 0.7119402985074627\n",
      "Testing Accuracy: 0.7479674796747967\n"
     ]
    }
   ],
   "source": [
    "lr= mymodel(LogisticRegression())"
   ]
  },
  {
   "cell_type": "markdown",
   "id": "e15d1642",
   "metadata": {},
   "source": [
    "# KNN Classifier"
   ]
  },
  {
   "cell_type": "code",
   "execution_count": 76,
   "id": "c0c38a15",
   "metadata": {},
   "outputs": [
    {
     "name": "stdout",
     "output_type": "stream",
     "text": [
      "KNeighborsClassifier(n_neighbors= Accuracy:  0.6829268292682927 \n",
      "Confusion Matrix: \n",
      " [[18 21]\n",
      " [18 66]]\n",
      "Classification report: \n",
      "               precision    recall  f1-score   support\n",
      "\n",
      "           N       0.50      0.46      0.48        39\n",
      "           Y       0.76      0.79      0.77        84\n",
      "\n",
      "    accuracy                           0.68       123\n",
      "   macro avg       0.63      0.62      0.63       123\n",
      "weighted avg       0.68      0.68      0.68       123\n",
      "\n",
      "Training Accuracy: 1.0\n",
      "Testing Accuracy: 0.6829268292682927\n",
      "KNeighborsClassifier(n_neighbors= Accuracy:  0.6422764227642277 \n",
      "Confusion Matrix: \n",
      " [[26 13]\n",
      " [31 53]]\n",
      "Classification report: \n",
      "               precision    recall  f1-score   support\n",
      "\n",
      "           N       0.46      0.67      0.54        39\n",
      "           Y       0.80      0.63      0.71        84\n",
      "\n",
      "    accuracy                           0.64       123\n",
      "   macro avg       0.63      0.65      0.62       123\n",
      "weighted avg       0.69      0.64      0.65       123\n",
      "\n",
      "Training Accuracy: 0.9074626865671642\n",
      "Testing Accuracy: 0.6422764227642277\n",
      "KNeighborsClassifier(n_neighbors= Accuracy:  0.6910569105691057 \n",
      "Confusion Matrix: \n",
      " [[24 15]\n",
      " [23 61]]\n",
      "Classification report: \n",
      "               precision    recall  f1-score   support\n",
      "\n",
      "           N       0.51      0.62      0.56        39\n",
      "           Y       0.80      0.73      0.76        84\n",
      "\n",
      "    accuracy                           0.69       123\n",
      "   macro avg       0.66      0.67      0.66       123\n",
      "weighted avg       0.71      0.69      0.70       123\n",
      "\n",
      "Training Accuracy: 0.8970149253731343\n",
      "Testing Accuracy: 0.6910569105691057\n",
      "KNeighborsClassifier(n_neighbors= Accuracy:  0.5853658536585366 \n",
      "Confusion Matrix: \n",
      " [[26 13]\n",
      " [38 46]]\n",
      "Classification report: \n",
      "               precision    recall  f1-score   support\n",
      "\n",
      "           N       0.41      0.67      0.50        39\n",
      "           Y       0.78      0.55      0.64        84\n",
      "\n",
      "    accuracy                           0.59       123\n",
      "   macro avg       0.59      0.61      0.57       123\n",
      "weighted avg       0.66      0.59      0.60       123\n",
      "\n",
      "Training Accuracy: 0.8507462686567164\n",
      "Testing Accuracy: 0.5853658536585366\n",
      "KNeighborsClassifier Accuracy:  0.6585365853658537 \n",
      "Confusion Matrix: \n",
      " [[25 14]\n",
      " [28 56]]\n",
      "Classification report: \n",
      "               precision    recall  f1-score   support\n",
      "\n",
      "           N       0.47      0.64      0.54        39\n",
      "           Y       0.80      0.67      0.73        84\n",
      "\n",
      "    accuracy                           0.66       123\n",
      "   macro avg       0.64      0.65      0.64       123\n",
      "weighted avg       0.70      0.66      0.67       123\n",
      "\n",
      "Training Accuracy: 0.8417910447761194\n",
      "Testing Accuracy: 0.6585365853658537\n",
      "KNeighborsClassifier(n_neighbors= Accuracy:  0.6178861788617886 \n",
      "Confusion Matrix: \n",
      " [[28 11]\n",
      " [36 48]]\n",
      "Classification report: \n",
      "               precision    recall  f1-score   support\n",
      "\n",
      "           N       0.44      0.72      0.54        39\n",
      "           Y       0.81      0.57      0.67        84\n",
      "\n",
      "    accuracy                           0.62       123\n",
      "   macro avg       0.63      0.64      0.61       123\n",
      "weighted avg       0.69      0.62      0.63       123\n",
      "\n",
      "Training Accuracy: 0.8059701492537313\n",
      "Testing Accuracy: 0.6178861788617886\n",
      "KNeighborsClassifier(n_neighbors= Accuracy:  0.7317073170731707 \n",
      "Confusion Matrix: \n",
      " [[25 14]\n",
      " [19 65]]\n",
      "Classification report: \n",
      "               precision    recall  f1-score   support\n",
      "\n",
      "           N       0.57      0.64      0.60        39\n",
      "           Y       0.82      0.77      0.80        84\n",
      "\n",
      "    accuracy                           0.73       123\n",
      "   macro avg       0.70      0.71      0.70       123\n",
      "weighted avg       0.74      0.73      0.74       123\n",
      "\n",
      "Training Accuracy: 0.7925373134328358\n",
      "Testing Accuracy: 0.7317073170731707\n",
      "KNeighborsClassifier(n_neighbors= Accuracy:  0.6910569105691057 \n",
      "Confusion Matrix: \n",
      " [[26 13]\n",
      " [25 59]]\n",
      "Classification report: \n",
      "               precision    recall  f1-score   support\n",
      "\n",
      "           N       0.51      0.67      0.58        39\n",
      "           Y       0.82      0.70      0.76        84\n",
      "\n",
      "    accuracy                           0.69       123\n",
      "   macro avg       0.66      0.68      0.67       123\n",
      "weighted avg       0.72      0.69      0.70       123\n",
      "\n",
      "Training Accuracy: 0.7686567164179104\n",
      "Testing Accuracy: 0.6910569105691057\n",
      "KNeighborsClassifier(n_neighbors= Accuracy:  0.7317073170731707 \n",
      "Confusion Matrix: \n",
      " [[25 14]\n",
      " [19 65]]\n",
      "Classification report: \n",
      "               precision    recall  f1-score   support\n",
      "\n",
      "           N       0.57      0.64      0.60        39\n",
      "           Y       0.82      0.77      0.80        84\n",
      "\n",
      "    accuracy                           0.73       123\n",
      "   macro avg       0.70      0.71      0.70       123\n",
      "weighted avg       0.74      0.73      0.74       123\n",
      "\n",
      "Training Accuracy: 0.7686567164179104\n",
      "Testing Accuracy: 0.7317073170731707\n",
      "KNeighborsClassifier(n_neighbors=1 Accuracy:  0.7073170731707317 \n",
      "Confusion Matrix: \n",
      " [[25 14]\n",
      " [22 62]]\n",
      "Classification report: \n",
      "               precision    recall  f1-score   support\n",
      "\n",
      "           N       0.53      0.64      0.58        39\n",
      "           Y       0.82      0.74      0.78        84\n",
      "\n",
      "    accuracy                           0.71       123\n",
      "   macro avg       0.67      0.69      0.68       123\n",
      "weighted avg       0.73      0.71      0.71       123\n",
      "\n",
      "Training Accuracy: 0.7626865671641792\n",
      "Testing Accuracy: 0.7073170731707317\n",
      "KNeighborsClassifier(n_neighbors=1 Accuracy:  0.7235772357723578 \n",
      "Confusion Matrix: \n",
      " [[24 15]\n",
      " [19 65]]\n",
      "Classification report: \n",
      "               precision    recall  f1-score   support\n",
      "\n",
      "           N       0.56      0.62      0.59        39\n",
      "           Y       0.81      0.77      0.79        84\n",
      "\n",
      "    accuracy                           0.72       123\n",
      "   macro avg       0.69      0.69      0.69       123\n",
      "weighted avg       0.73      0.72      0.73       123\n",
      "\n",
      "Training Accuracy: 0.764179104477612\n",
      "Testing Accuracy: 0.7235772357723578\n",
      "KNeighborsClassifier(n_neighbors=1 Accuracy:  0.6829268292682927 \n",
      "Confusion Matrix: \n",
      " [[26 13]\n",
      " [26 58]]\n",
      "Classification report: \n",
      "               precision    recall  f1-score   support\n",
      "\n",
      "           N       0.50      0.67      0.57        39\n",
      "           Y       0.82      0.69      0.75        84\n",
      "\n",
      "    accuracy                           0.68       123\n",
      "   macro avg       0.66      0.68      0.66       123\n",
      "weighted avg       0.72      0.68      0.69       123\n",
      "\n",
      "Training Accuracy: 0.7597014925373134\n",
      "Testing Accuracy: 0.6829268292682927\n",
      "KNeighborsClassifier(n_neighbors=1 Accuracy:  0.7235772357723578 \n",
      "Confusion Matrix: \n",
      " [[23 16]\n",
      " [18 66]]\n",
      "Classification report: \n",
      "               precision    recall  f1-score   support\n",
      "\n",
      "           N       0.56      0.59      0.57        39\n",
      "           Y       0.80      0.79      0.80        84\n",
      "\n",
      "    accuracy                           0.72       123\n",
      "   macro avg       0.68      0.69      0.69       123\n",
      "weighted avg       0.73      0.72      0.73       123\n",
      "\n",
      "Training Accuracy: 0.7417910447761195\n",
      "Testing Accuracy: 0.7235772357723578\n",
      "KNeighborsClassifier(n_neighbors=1 Accuracy:  0.6829268292682927 \n",
      "Confusion Matrix: \n",
      " [[24 15]\n",
      " [24 60]]\n",
      "Classification report: \n",
      "               precision    recall  f1-score   support\n",
      "\n",
      "           N       0.50      0.62      0.55        39\n",
      "           Y       0.80      0.71      0.75        84\n",
      "\n",
      "    accuracy                           0.68       123\n",
      "   macro avg       0.65      0.66      0.65       123\n",
      "weighted avg       0.70      0.68      0.69       123\n",
      "\n",
      "Training Accuracy: 0.7477611940298508\n",
      "Testing Accuracy: 0.6829268292682927\n",
      "KNeighborsClassifier(n_neighbors=1 Accuracy:  0.7479674796747967 \n",
      "Confusion Matrix: \n",
      " [[21 18]\n",
      " [13 71]]\n",
      "Classification report: \n",
      "               precision    recall  f1-score   support\n",
      "\n",
      "           N       0.62      0.54      0.58        39\n",
      "           Y       0.80      0.85      0.82        84\n",
      "\n",
      "    accuracy                           0.75       123\n",
      "   macro avg       0.71      0.69      0.70       123\n",
      "weighted avg       0.74      0.75      0.74       123\n",
      "\n",
      "Training Accuracy: 0.7373134328358208\n",
      "Testing Accuracy: 0.7479674796747967\n",
      "KNeighborsClassifier(n_neighbors=1 Accuracy:  0.7154471544715447 \n",
      "Confusion Matrix: \n",
      " [[22 17]\n",
      " [18 66]]\n",
      "Classification report: \n",
      "               precision    recall  f1-score   support\n",
      "\n",
      "           N       0.55      0.56      0.56        39\n",
      "           Y       0.80      0.79      0.79        84\n",
      "\n",
      "    accuracy                           0.72       123\n",
      "   macro avg       0.67      0.67      0.67       123\n",
      "weighted avg       0.72      0.72      0.72       123\n",
      "\n",
      "Training Accuracy: 0.7343283582089553\n",
      "Testing Accuracy: 0.7154471544715447\n",
      "KNeighborsClassifier(n_neighbors=1 Accuracy:  0.7154471544715447 \n",
      "Confusion Matrix: \n",
      " [[19 20]\n",
      " [15 69]]\n",
      "Classification report: \n"
     ]
    },
    {
     "name": "stdout",
     "output_type": "stream",
     "text": [
      "               precision    recall  f1-score   support\n",
      "\n",
      "           N       0.56      0.49      0.52        39\n",
      "           Y       0.78      0.82      0.80        84\n",
      "\n",
      "    accuracy                           0.72       123\n",
      "   macro avg       0.67      0.65      0.66       123\n",
      "weighted avg       0.71      0.72      0.71       123\n",
      "\n",
      "Training Accuracy: 0.7313432835820896\n",
      "Testing Accuracy: 0.7154471544715447\n",
      "KNeighborsClassifier(n_neighbors=1 Accuracy:  0.7154471544715447 \n",
      "Confusion Matrix: \n",
      " [[22 17]\n",
      " [18 66]]\n",
      "Classification report: \n",
      "               precision    recall  f1-score   support\n",
      "\n",
      "           N       0.55      0.56      0.56        39\n",
      "           Y       0.80      0.79      0.79        84\n",
      "\n",
      "    accuracy                           0.72       123\n",
      "   macro avg       0.67      0.67      0.67       123\n",
      "weighted avg       0.72      0.72      0.72       123\n",
      "\n",
      "Training Accuracy: 0.7164179104477612\n",
      "Testing Accuracy: 0.7154471544715447\n",
      "KNeighborsClassifier(n_neighbors=1 Accuracy:  0.7479674796747967 \n",
      "Confusion Matrix: \n",
      " [[22 17]\n",
      " [14 70]]\n",
      "Classification report: \n",
      "               precision    recall  f1-score   support\n",
      "\n",
      "           N       0.61      0.56      0.59        39\n",
      "           Y       0.80      0.83      0.82        84\n",
      "\n",
      "    accuracy                           0.75       123\n",
      "   macro avg       0.71      0.70      0.70       123\n",
      "weighted avg       0.74      0.75      0.75       123\n",
      "\n",
      "Training Accuracy: 0.7432835820895523\n",
      "Testing Accuracy: 0.7479674796747967\n",
      "KNeighborsClassifier(n_neighbors=2 Accuracy:  0.7154471544715447 \n",
      "Confusion Matrix: \n",
      " [[22 17]\n",
      " [18 66]]\n",
      "Classification report: \n",
      "               precision    recall  f1-score   support\n",
      "\n",
      "           N       0.55      0.56      0.56        39\n",
      "           Y       0.80      0.79      0.79        84\n",
      "\n",
      "    accuracy                           0.72       123\n",
      "   macro avg       0.67      0.67      0.67       123\n",
      "weighted avg       0.72      0.72      0.72       123\n",
      "\n",
      "Training Accuracy: 0.7402985074626866\n",
      "Testing Accuracy: 0.7154471544715447\n",
      "KNeighborsClassifier(n_neighbors=2 Accuracy:  0.7398373983739838 \n",
      "Confusion Matrix: \n",
      " [[21 18]\n",
      " [14 70]]\n",
      "Classification report: \n",
      "               precision    recall  f1-score   support\n",
      "\n",
      "           N       0.60      0.54      0.57        39\n",
      "           Y       0.80      0.83      0.81        84\n",
      "\n",
      "    accuracy                           0.74       123\n",
      "   macro avg       0.70      0.69      0.69       123\n",
      "weighted avg       0.73      0.74      0.74       123\n",
      "\n",
      "Training Accuracy: 0.735820895522388\n",
      "Testing Accuracy: 0.7398373983739838\n",
      "KNeighborsClassifier(n_neighbors=2 Accuracy:  0.7154471544715447 \n",
      "Confusion Matrix: \n",
      " [[21 18]\n",
      " [17 67]]\n",
      "Classification report: \n",
      "               precision    recall  f1-score   support\n",
      "\n",
      "           N       0.55      0.54      0.55        39\n",
      "           Y       0.79      0.80      0.79        84\n",
      "\n",
      "    accuracy                           0.72       123\n",
      "   macro avg       0.67      0.67      0.67       123\n",
      "weighted avg       0.71      0.72      0.71       123\n",
      "\n",
      "Training Accuracy: 0.7417910447761195\n",
      "Testing Accuracy: 0.7154471544715447\n",
      "KNeighborsClassifier(n_neighbors=2 Accuracy:  0.7398373983739838 \n",
      "Confusion Matrix: \n",
      " [[21 18]\n",
      " [14 70]]\n",
      "Classification report: \n",
      "               precision    recall  f1-score   support\n",
      "\n",
      "           N       0.60      0.54      0.57        39\n",
      "           Y       0.80      0.83      0.81        84\n",
      "\n",
      "    accuracy                           0.74       123\n",
      "   macro avg       0.70      0.69      0.69       123\n",
      "weighted avg       0.73      0.74      0.74       123\n",
      "\n",
      "Training Accuracy: 0.7208955223880597\n",
      "Testing Accuracy: 0.7398373983739838\n",
      "KNeighborsClassifier(n_neighbors=2 Accuracy:  0.7398373983739838 \n",
      "Confusion Matrix: \n",
      " [[24 15]\n",
      " [17 67]]\n",
      "Classification report: \n",
      "               precision    recall  f1-score   support\n",
      "\n",
      "           N       0.59      0.62      0.60        39\n",
      "           Y       0.82      0.80      0.81        84\n",
      "\n",
      "    accuracy                           0.74       123\n",
      "   macro avg       0.70      0.71      0.70       123\n",
      "weighted avg       0.74      0.74      0.74       123\n",
      "\n",
      "Training Accuracy: 0.7238805970149254\n",
      "Testing Accuracy: 0.7398373983739838\n"
     ]
    },
    {
     "data": {
      "image/png": "[encoded data removed]",
      "text/plain": [
       "<Figure size 432x288 with 1 Axes>"
      ]
     },
     "metadata": {
      "needs_background": "light"
     },
     "output_type": "display_data"
    },
    {
     "name": "stdout",
     "output_type": "stream",
     "text": [
      "KNN Best Accuracy: 74.80%\n"
     ]
    }
   ],
   "source": [
    "scorelist_test =[]\n",
    "scorelist_train =[]\n",
    "\n",
    "for i in range(1,25):\n",
    "    knn= mymodel(KNeighborsClassifier(n_neighbors= i))\n",
    "    scorelist_test.append(knn.score(xtest, ytest))\n",
    "    scorelist_train.append(knn.score(x_label, y_label))\n",
    "    \n",
    "plt.plot(range(1,25),scorelist_test, color= 'red')\n",
    "plt.plot(range(1,25),scorelist_train, color= 'blue')\n",
    "plt.xticks(np.arange(1,25,1))\n",
    "plt.xlabel(\"K Value\")\n",
    "plt.ylabel(\"Score\")\n",
    "plt.show()\n",
    "Kacc= max(scorelist_test)\n",
    "print(\"KNN Best Accuracy: {:.2f}%\". format(Kacc*100))"
   ]
  },
  {
   "cell_type": "code",
   "execution_count": 88,
   "id": "839ba4d0",
   "metadata": {},
   "outputs": [
    {
     "name": "stdout",
     "output_type": "stream",
     "text": [
      "KNeighborsClassifier(n_neighbors=1 Accuracy:  0.6829268292682927 \n",
      "Confusion Matrix: \n",
      " [[24 15]\n",
      " [24 60]]\n",
      "Classification report: \n",
      "               precision    recall  f1-score   support\n",
      "\n",
      "           N       0.50      0.62      0.55        39\n",
      "           Y       0.80      0.71      0.75        84\n",
      "\n",
      "    accuracy                           0.68       123\n",
      "   macro avg       0.65      0.66      0.65       123\n",
      "weighted avg       0.70      0.68      0.69       123\n",
      "\n",
      "Training Accuracy: 0.7477611940298508\n",
      "Testing Accuracy: 0.6829268292682927\n"
     ]
    }
   ],
   "source": [
    " knn= mymodel(KNeighborsClassifier(n_neighbors= 14))"
   ]
  },
  {
   "cell_type": "markdown",
   "id": "f06b8a12",
   "metadata": {},
   "source": [
    "# Support Vector Machine(SVM)"
   ]
  },
  {
   "cell_type": "code",
   "execution_count": 78,
   "id": "9b25e56b",
   "metadata": {},
   "outputs": [
    {
     "name": "stdout",
     "output_type": "stream",
     "text": [
      "SVC Accuracy:  0.7886178861788617 \n",
      "Confusion Matrix: \n",
      " [[22 17]\n",
      " [ 9 75]]\n",
      "Classification report: \n",
      "               precision    recall  f1-score   support\n",
      "\n",
      "           N       0.71      0.56      0.63        39\n",
      "           Y       0.82      0.89      0.85        84\n",
      "\n",
      "    accuracy                           0.79       123\n",
      "   macro avg       0.76      0.73      0.74       123\n",
      "weighted avg       0.78      0.79      0.78       123\n",
      "\n",
      "Training Accuracy: 0.8044776119402985\n",
      "Testing Accuracy: 0.7886178861788617\n"
     ]
    }
   ],
   "source": [
    "svc= mymodel(SVC())"
   ]
  },
  {
   "cell_type": "markdown",
   "id": "b2330433",
   "metadata": {},
   "source": [
    "# Gaussian NB"
   ]
  },
  {
   "cell_type": "code",
   "execution_count": 79,
   "id": "ce2be97f",
   "metadata": {},
   "outputs": [
    {
     "name": "stdout",
     "output_type": "stream",
     "text": [
      "GaussianNB Accuracy:  0.8292682926829268 \n",
      "Confusion Matrix: \n",
      " [[20 19]\n",
      " [ 2 82]]\n",
      "Classification report: \n",
      "               precision    recall  f1-score   support\n",
      "\n",
      "           N       0.91      0.51      0.66        39\n",
      "           Y       0.81      0.98      0.89        84\n",
      "\n",
      "    accuracy                           0.83       123\n",
      "   macro avg       0.86      0.74      0.77       123\n",
      "weighted avg       0.84      0.83      0.81       123\n",
      "\n",
      "Training Accuracy: 0.7089552238805971\n",
      "Testing Accuracy: 0.8292682926829268\n"
     ]
    }
   ],
   "source": [
    "gb= mymodel(GaussianNB())"
   ]
  },
  {
   "cell_type": "markdown",
   "id": "dc03466d",
   "metadata": {},
   "source": [
    "# Decision Tree Classifier"
   ]
  },
  {
   "cell_type": "code",
   "execution_count": 80,
   "id": "efab12cb",
   "metadata": {},
   "outputs": [
    {
     "name": "stdout",
     "output_type": "stream",
     "text": [
      "DecisionTreeClassifier Accuracy:  0.7317073170731707 \n",
      "Confusion Matrix: \n",
      " [[26 13]\n",
      " [20 64]]\n",
      "Classification report: \n",
      "               precision    recall  f1-score   support\n",
      "\n",
      "           N       0.57      0.67      0.61        39\n",
      "           Y       0.83      0.76      0.80        84\n",
      "\n",
      "    accuracy                           0.73       123\n",
      "   macro avg       0.70      0.71      0.70       123\n",
      "weighted avg       0.75      0.73      0.74       123\n",
      "\n",
      "Training Accuracy: 1.0\n",
      "Testing Accuracy: 0.7317073170731707\n"
     ]
    }
   ],
   "source": [
    "dt= mymodel(DecisionTreeClassifier())                "
   ]
  },
  {
   "cell_type": "code",
   "execution_count": 90,
   "id": "5b3e11e9",
   "metadata": {},
   "outputs": [
    {
     "data": {
      "text/html": [
       "<div>\n",
       "<style scoped>\n",
       "    .dataframe tbody tr th:only-of-type {\n",
       "        vertical-align: middle;\n",
       "    }\n",
       "\n",
       "    .dataframe tbody tr th {\n",
       "        vertical-align: top;\n",
       "    }\n",
       "\n",
       "    .dataframe thead th {\n",
       "        text-align: right;\n",
       "    }\n",
       "</style>\n",
       "<table border=\"1\" class=\"dataframe\">\n",
       "  <thead>\n",
       "    <tr style=\"text-align: right;\">\n",
       "      <th></th>\n",
       "      <th>Model</th>\n",
       "      <th>Accuracy</th>\n",
       "    </tr>\n",
       "  </thead>\n",
       "  <tbody>\n",
       "    <tr>\n",
       "      <th>3</th>\n",
       "      <td>Gaussian NB</td>\n",
       "      <td>82.0</td>\n",
       "    </tr>\n",
       "    <tr>\n",
       "      <th>2</th>\n",
       "      <td>SVM</td>\n",
       "      <td>78.0</td>\n",
       "    </tr>\n",
       "    <tr>\n",
       "      <th>0</th>\n",
       "      <td>Logistic Regression</td>\n",
       "      <td>74.0</td>\n",
       "    </tr>\n",
       "    <tr>\n",
       "      <th>4</th>\n",
       "      <td>Decision Tree</td>\n",
       "      <td>73.0</td>\n",
       "    </tr>\n",
       "    <tr>\n",
       "      <th>1</th>\n",
       "      <td>K Neighbors</td>\n",
       "      <td>68.0</td>\n",
       "    </tr>\n",
       "  </tbody>\n",
       "</table>\n",
       "</div>"
      ],
      "text/plain": [
       "                 Model  Accuracy\n",
       "3          Gaussian NB      82.0\n",
       "2                  SVM      78.0\n",
       "0  Logistic Regression      74.0\n",
       "4        Decision Tree      73.0\n",
       "1          K Neighbors      68.0"
      ]
     },
     "execution_count": 90,
     "metadata": {},
     "output_type": "execute_result"
    }
   ],
   "source": [
    "compare = pd.DataFrame({'Model': ['Logistic Regression', 'K Neighbors', \n",
    "                                  'SVM','Gaussian NB', 'Decision Tree'], \n",
    "                        'Accuracy': [0.74*100, 0.68*100, 0.78*100, \n",
    "                                     0.82*100, 0.73*100]})\n",
    "compare.sort_values(by='Accuracy', ascending=False)"
   ]
  },
  {
   "cell_type": "markdown",
   "id": "5e0a4167",
   "metadata": {},
   "source": [
    "<h2> Another Technique for Imbalance dataset </h2>\n",
    "    Target is imbalance dataset So we can apply Smote </h2>"
   ]
  },
  {
   "cell_type": "code",
   "execution_count": 82,
   "id": "f7ef9591",
   "metadata": {},
   "outputs": [],
   "source": [
    "from imblearn.over_sampling import SMOTE\n",
    "smote= SMOTE()"
   ]
  },
  {
   "cell_type": "code",
   "execution_count": 83,
   "id": "990ddf81",
   "metadata": {},
   "outputs": [],
   "source": [
    "xtrain_smote, ytrain_smote= smote.fit_resample(xtrain, ytrain)"
   ]
  },
  {
   "cell_type": "code",
   "execution_count": 84,
   "id": "52bc9c49",
   "metadata": {},
   "outputs": [
    {
     "name": "stdout",
     "output_type": "stream",
     "text": [
      "Before Smote:  Counter({'Y': 335, 'N': 153})\n",
      "After Smote:  Counter({'N': 335, 'Y': 335})\n"
     ]
    }
   ],
   "source": [
    "from collections import Counter\n",
    "print(\"Before Smote: \", Counter(ytrain))\n",
    "print(\"After Smote: \", Counter(ytrain_smote))"
   ]
  },
  {
   "cell_type": "code",
   "execution_count": null,
   "id": "cd511b7e",
   "metadata": {},
   "outputs": [],
   "source": []
  },
  {
   "cell_type": "code",
   "execution_count": 85,
   "id": "327e80ee",
   "metadata": {},
   "outputs": [],
   "source": [
    "def mymodel1(model):\n",
    "    model.fit(xtrain_smote,ytrain_smote)\n",
    "    ypred=model.predict(xtest)\n",
    "    \n",
    "    tr=model.score(xtrain_smote,ytrain_smote)\n",
    "    te=model.score(xtest,ytest)\n",
    "    \n",
    "    print(str(model)[:-2],'Accuracy: ',accuracy_score(ytest,ypred),\\\n",
    "          '\\nConfusion Matrix: \\n',confusion_matrix(ytest,ypred))\n",
    "    print(\"Classification report: \\n\",classification_report(ytest,ypred))\n",
    "    print(f'Training Accuracy: {tr}\\nTesting Accuracy: {te}')\n",
    "    print(pd.crosstab(ytest,ypred))\n",
    "    \n",
    "    return model"
   ]
  },
  {
   "cell_type": "code",
   "execution_count": 86,
   "id": "224b4ac3",
   "metadata": {},
   "outputs": [
    {
     "name": "stdout",
     "output_type": "stream",
     "text": [
      "LogisticRegression Accuracy:  0.7642276422764228 \n",
      "Confusion Matrix: \n",
      " [[22 17]\n",
      " [12 72]]\n",
      "Classification report: \n",
      "               precision    recall  f1-score   support\n",
      "\n",
      "           N       0.65      0.56      0.60        39\n",
      "           Y       0.81      0.86      0.83        84\n",
      "\n",
      "    accuracy                           0.76       123\n",
      "   macro avg       0.73      0.71      0.72       123\n",
      "weighted avg       0.76      0.76      0.76       123\n",
      "\n",
      "Training Accuracy: 0.7104477611940299\n",
      "Testing Accuracy: 0.7642276422764228\n",
      "col_0         N   Y\n",
      "Loan_Status        \n",
      "N            22  17\n",
      "Y            12  72\n"
     ]
    }
   ],
   "source": [
    "lr= mymodel1(LogisticRegression())"
   ]
  },
  {
   "cell_type": "code",
   "execution_count": 87,
   "id": "5bc6501d",
   "metadata": {},
   "outputs": [
    {
     "name": "stdout",
     "output_type": "stream",
     "text": [
      "DecisionTreeClassifier Accuracy:  0.6991869918699187 \n",
      "Confusion Matrix: \n",
      " [[25 14]\n",
      " [23 61]]\n",
      "Classification report: \n",
      "               precision    recall  f1-score   support\n",
      "\n",
      "           N       0.52      0.64      0.57        39\n",
      "           Y       0.81      0.73      0.77        84\n",
      "\n",
      "    accuracy                           0.70       123\n",
      "   macro avg       0.67      0.68      0.67       123\n",
      "weighted avg       0.72      0.70      0.71       123\n",
      "\n",
      "Training Accuracy: 1.0\n",
      "Testing Accuracy: 0.6991869918699187\n",
      "col_0         N   Y\n",
      "Loan_Status        \n",
      "N            25  14\n",
      "Y            23  61\n"
     ]
    }
   ],
   "source": [
    "dt= mymodel1(DecisionTreeClassifier())"
   ]
  },
  {
   "cell_type": "code",
   "execution_count": null,
   "id": "eaef02bb",
   "metadata": {},
   "outputs": [],
   "source": []
  },
  {
   "cell_type": "code",
   "execution_count": null,
   "id": "a4620ff7",
   "metadata": {},
   "outputs": [],
   "source": []
  },
  {
   "cell_type": "code",
   "execution_count": null,
   "id": "9dace777",
   "metadata": {},
   "outputs": [],
   "source": []
  },
  {
   "cell_type": "code",
   "execution_count": null,
   "id": "98425f5c",
   "metadata": {},
   "outputs": [],
   "source": []
  },
  {
   "cell_type": "code",
   "execution_count": null,
   "id": "0e42e2b3",
   "metadata": {},
   "outputs": [],
   "source": []
  },
  {
   "cell_type": "code",
   "execution_count": null,
   "id": "fcd50f9f",
   "metadata": {},
   "outputs": [],
   "source": []
  }
 ],
 "metadata": {
  "kernelspec": {
   "display_name": "Python 3 (ipykernel)",
   "language": "python",
   "name": "python3"
  },
  "language_info": {
   "codemirror_mode": {
    "name": "ipython",
    "version": 3
   },
   "file_extension": ".py",
   "mimetype": "text/x-python",
   "name": "python",
   "nbconvert_exporter": "python",
   "pygments_lexer": "ipython3",
   "version": "3.9.12"
  }
 },
 "nbformat": 4,
 "nbformat_minor": 5
}
